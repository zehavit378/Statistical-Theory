{
 "cells": [
  {
   "cell_type": "code",
   "execution_count": 506,
   "metadata": {
    "id": "rTqBf6PDwM-x"
   },
   "outputs": [],
   "source": [
    "import os\n",
    "import opendatasets as od\n",
    "import numpy as np\n",
    "import pandas as pd\n",
    "import matplotlib.pyplot as plt\n",
    "import seaborn as sns\n",
    "\n",
    "from scipy.stats import kstest, mannwhitneyu, levene, ttest_ind, chi2_contingency, wilcoxon, spearmanr"
   ]
  },
  {
   "cell_type": "code",
   "execution_count": 507,
   "metadata": {
    "colab": {
     "base_uri": "https://localhost:8080/"
    },
    "id": "V3cWxBKQuMcS",
    "outputId": "ea62d749-1ad1-4b35-d287-904c8d5f8002"
   },
   "outputs": [
    {
     "name": "stdout",
     "output_type": "stream",
     "text": [
      "Skipping, found downloaded files in \".\\dementia-prediction-dataset\" (use force=True to force download)\n"
     ]
    }
   ],
   "source": [
    "od.download(\"https://www.kaggle.com/datasets/shashwatwork/dementia-prediction-dataset\")"
   ]
  },
  {
   "cell_type": "code",
   "execution_count": 508,
   "metadata": {
    "id": "61qrnN0vhqRq"
   },
   "outputs": [
    {
     "name": "stdout",
     "output_type": "stream",
     "text": [
      "['dementia_dataset.csv']\n"
     ]
    }
   ],
   "source": [
    "# Check the contents of the downloaded folder\n",
    "dataset_dir = './dementia-prediction-dataset'\n",
    "print(os.listdir(dataset_dir))  # List the files in the dataset folder\n",
    "\n",
    "# Load the CSV file (replace 'dementia_dataset.csv' with the correct file name if necessary)\n",
    "csv_path = os.path.join(dataset_dir, 'dementia_dataset.csv')  \n",
    "df = pd.read_csv(csv_path)"
   ]
  },
  {
   "cell_type": "code",
   "execution_count": 509,
   "metadata": {
    "colab": {
     "base_uri": "https://localhost:8080/",
     "height": 206
    },
    "id": "-7lwSPuDiGU3",
    "outputId": "6cdf89f4-e638-42e3-977e-73ded47a310f"
   },
   "outputs": [
    {
     "data": {
      "text/html": [
       "<div>\n",
       "<style scoped>\n",
       "    .dataframe tbody tr th:only-of-type {\n",
       "        vertical-align: middle;\n",
       "    }\n",
       "\n",
       "    .dataframe tbody tr th {\n",
       "        vertical-align: top;\n",
       "    }\n",
       "\n",
       "    .dataframe thead th {\n",
       "        text-align: right;\n",
       "    }\n",
       "</style>\n",
       "<table border=\"1\" class=\"dataframe\">\n",
       "  <thead>\n",
       "    <tr style=\"text-align: right;\">\n",
       "      <th></th>\n",
       "      <th>Subject ID</th>\n",
       "      <th>MRI ID</th>\n",
       "      <th>Group</th>\n",
       "      <th>Visit</th>\n",
       "      <th>MR Delay</th>\n",
       "      <th>M/F</th>\n",
       "      <th>Hand</th>\n",
       "      <th>Age</th>\n",
       "      <th>EDUC</th>\n",
       "      <th>SES</th>\n",
       "      <th>MMSE</th>\n",
       "      <th>CDR</th>\n",
       "      <th>eTIV</th>\n",
       "      <th>nWBV</th>\n",
       "      <th>ASF</th>\n",
       "    </tr>\n",
       "  </thead>\n",
       "  <tbody>\n",
       "    <tr>\n",
       "      <th>0</th>\n",
       "      <td>OAS2_0001</td>\n",
       "      <td>OAS2_0001_MR1</td>\n",
       "      <td>Nondemented</td>\n",
       "      <td>1</td>\n",
       "      <td>0</td>\n",
       "      <td>M</td>\n",
       "      <td>R</td>\n",
       "      <td>87</td>\n",
       "      <td>14</td>\n",
       "      <td>2.0</td>\n",
       "      <td>27.0</td>\n",
       "      <td>0.0</td>\n",
       "      <td>1987</td>\n",
       "      <td>0.696</td>\n",
       "      <td>0.883</td>\n",
       "    </tr>\n",
       "    <tr>\n",
       "      <th>1</th>\n",
       "      <td>OAS2_0001</td>\n",
       "      <td>OAS2_0001_MR2</td>\n",
       "      <td>Nondemented</td>\n",
       "      <td>2</td>\n",
       "      <td>457</td>\n",
       "      <td>M</td>\n",
       "      <td>R</td>\n",
       "      <td>88</td>\n",
       "      <td>14</td>\n",
       "      <td>2.0</td>\n",
       "      <td>30.0</td>\n",
       "      <td>0.0</td>\n",
       "      <td>2004</td>\n",
       "      <td>0.681</td>\n",
       "      <td>0.876</td>\n",
       "    </tr>\n",
       "    <tr>\n",
       "      <th>2</th>\n",
       "      <td>OAS2_0002</td>\n",
       "      <td>OAS2_0002_MR1</td>\n",
       "      <td>Demented</td>\n",
       "      <td>1</td>\n",
       "      <td>0</td>\n",
       "      <td>M</td>\n",
       "      <td>R</td>\n",
       "      <td>75</td>\n",
       "      <td>12</td>\n",
       "      <td>NaN</td>\n",
       "      <td>23.0</td>\n",
       "      <td>0.5</td>\n",
       "      <td>1678</td>\n",
       "      <td>0.736</td>\n",
       "      <td>1.046</td>\n",
       "    </tr>\n",
       "    <tr>\n",
       "      <th>3</th>\n",
       "      <td>OAS2_0002</td>\n",
       "      <td>OAS2_0002_MR2</td>\n",
       "      <td>Demented</td>\n",
       "      <td>2</td>\n",
       "      <td>560</td>\n",
       "      <td>M</td>\n",
       "      <td>R</td>\n",
       "      <td>76</td>\n",
       "      <td>12</td>\n",
       "      <td>NaN</td>\n",
       "      <td>28.0</td>\n",
       "      <td>0.5</td>\n",
       "      <td>1738</td>\n",
       "      <td>0.713</td>\n",
       "      <td>1.010</td>\n",
       "    </tr>\n",
       "    <tr>\n",
       "      <th>4</th>\n",
       "      <td>OAS2_0002</td>\n",
       "      <td>OAS2_0002_MR3</td>\n",
       "      <td>Demented</td>\n",
       "      <td>3</td>\n",
       "      <td>1895</td>\n",
       "      <td>M</td>\n",
       "      <td>R</td>\n",
       "      <td>80</td>\n",
       "      <td>12</td>\n",
       "      <td>NaN</td>\n",
       "      <td>22.0</td>\n",
       "      <td>0.5</td>\n",
       "      <td>1698</td>\n",
       "      <td>0.701</td>\n",
       "      <td>1.034</td>\n",
       "    </tr>\n",
       "  </tbody>\n",
       "</table>\n",
       "</div>"
      ],
      "text/plain": [
       "  Subject ID         MRI ID        Group  Visit  MR Delay M/F Hand  Age  EDUC  \\\n",
       "0  OAS2_0001  OAS2_0001_MR1  Nondemented      1         0   M    R   87    14   \n",
       "1  OAS2_0001  OAS2_0001_MR2  Nondemented      2       457   M    R   88    14   \n",
       "2  OAS2_0002  OAS2_0002_MR1     Demented      1         0   M    R   75    12   \n",
       "3  OAS2_0002  OAS2_0002_MR2     Demented      2       560   M    R   76    12   \n",
       "4  OAS2_0002  OAS2_0002_MR3     Demented      3      1895   M    R   80    12   \n",
       "\n",
       "   SES  MMSE  CDR  eTIV   nWBV    ASF  \n",
       "0  2.0  27.0  0.0  1987  0.696  0.883  \n",
       "1  2.0  30.0  0.0  2004  0.681  0.876  \n",
       "2  NaN  23.0  0.5  1678  0.736  1.046  \n",
       "3  NaN  28.0  0.5  1738  0.713  1.010  \n",
       "4  NaN  22.0  0.5  1698  0.701  1.034  "
      ]
     },
     "execution_count": 509,
     "metadata": {},
     "output_type": "execute_result"
    }
   ],
   "source": [
    "df.head()"
   ]
  },
  {
   "cell_type": "code",
   "execution_count": 510,
   "metadata": {
    "colab": {
     "base_uri": "https://localhost:8080/"
    },
    "id": "I6mJ8Mw5iLlf",
    "outputId": "0e4ca9d8-00bf-4ed4-805c-84d170486d60"
   },
   "outputs": [
    {
     "data": {
      "text/plain": [
       "(373, 15)"
      ]
     },
     "execution_count": 510,
     "metadata": {},
     "output_type": "execute_result"
    }
   ],
   "source": [
    "df.shape"
   ]
  },
  {
   "cell_type": "code",
   "execution_count": 511,
   "metadata": {
    "colab": {
     "base_uri": "https://localhost:8080/"
    },
    "id": "JRrnFIXt_2ep",
    "outputId": "75a5e4ee-4fe1-4b22-a5e9-96296ebce744"
   },
   "outputs": [
    {
     "data": {
      "text/plain": [
       "Index(['Subject ID', 'MRI ID', 'Group', 'Visit', 'MR Delay', 'M/F', 'Hand',\n",
       "       'Age', 'EDUC', 'SES', 'MMSE', 'CDR', 'eTIV', 'nWBV', 'ASF'],\n",
       "      dtype='object')"
      ]
     },
     "execution_count": 511,
     "metadata": {},
     "output_type": "execute_result"
    }
   ],
   "source": [
    "df.columns"
   ]
  },
  {
   "cell_type": "markdown",
   "metadata": {},
   "source": [
    "Check the number of subjects."
   ]
  },
  {
   "cell_type": "code",
   "execution_count": 513,
   "metadata": {
    "colab": {
     "base_uri": "https://localhost:8080/"
    },
    "id": "YiN06MN09Mwp",
    "outputId": "d3ba3e18-18db-464a-8fb3-45a4b27aa252"
   },
   "outputs": [
    {
     "data": {
      "text/plain": [
       "150"
      ]
     },
     "execution_count": 513,
     "metadata": {},
     "output_type": "execute_result"
    }
   ],
   "source": [
    "df['Subject ID'].nunique()"
   ]
  },
  {
   "cell_type": "code",
   "execution_count": 514,
   "metadata": {
    "colab": {
     "base_uri": "https://localhost:8080/"
    },
    "id": "F2cyg5nIiTU6",
    "outputId": "32f0a98d-f17b-40d7-de9c-9f01e8bf0bef"
   },
   "outputs": [
    {
     "name": "stdout",
     "output_type": "stream",
     "text": [
      "<class 'pandas.core.frame.DataFrame'>\n",
      "RangeIndex: 373 entries, 0 to 372\n",
      "Data columns (total 15 columns):\n",
      " #   Column      Non-Null Count  Dtype  \n",
      "---  ------      --------------  -----  \n",
      " 0   Subject ID  373 non-null    object \n",
      " 1   MRI ID      373 non-null    object \n",
      " 2   Group       373 non-null    object \n",
      " 3   Visit       373 non-null    int64  \n",
      " 4   MR Delay    373 non-null    int64  \n",
      " 5   M/F         373 non-null    object \n",
      " 6   Hand        373 non-null    object \n",
      " 7   Age         373 non-null    int64  \n",
      " 8   EDUC        373 non-null    int64  \n",
      " 9   SES         354 non-null    float64\n",
      " 10  MMSE        371 non-null    float64\n",
      " 11  CDR         373 non-null    float64\n",
      " 12  eTIV        373 non-null    int64  \n",
      " 13  nWBV        373 non-null    float64\n",
      " 14  ASF         373 non-null    float64\n",
      "dtypes: float64(5), int64(5), object(5)\n",
      "memory usage: 43.8+ KB\n"
     ]
    }
   ],
   "source": [
    "df.info()"
   ]
  },
  {
   "cell_type": "markdown",
   "metadata": {},
   "source": [
    "Check for null values"
   ]
  },
  {
   "cell_type": "code",
   "execution_count": 516,
   "metadata": {
    "colab": {
     "base_uri": "https://localhost:8080/",
     "height": 554
    },
    "id": "FFeiCNVasrJO",
    "outputId": "3731663c-51ea-4fea-ed91-dfa4bcbeec9a"
   },
   "outputs": [
    {
     "data": {
      "text/plain": [
       "Subject ID     0\n",
       "MRI ID         0\n",
       "Group          0\n",
       "Visit          0\n",
       "MR Delay       0\n",
       "M/F            0\n",
       "Hand           0\n",
       "Age            0\n",
       "EDUC           0\n",
       "SES           19\n",
       "MMSE           2\n",
       "CDR            0\n",
       "eTIV           0\n",
       "nWBV           0\n",
       "ASF            0\n",
       "dtype: int64"
      ]
     },
     "execution_count": 516,
     "metadata": {},
     "output_type": "execute_result"
    }
   ],
   "source": [
    "df.isnull().sum()"
   ]
  },
  {
   "cell_type": "markdown",
   "metadata": {},
   "source": [
    "Statistical description of the dataset."
   ]
  },
  {
   "cell_type": "code",
   "execution_count": 518,
   "metadata": {
    "colab": {
     "base_uri": "https://localhost:8080/",
     "height": 363
    },
    "id": "0f5kjBdJiNJ0",
    "outputId": "e1ab24e7-b179-431b-db60-1b6e717f32c7"
   },
   "outputs": [
    {
     "data": {
      "text/html": [
       "<div>\n",
       "<style scoped>\n",
       "    .dataframe tbody tr th:only-of-type {\n",
       "        vertical-align: middle;\n",
       "    }\n",
       "\n",
       "    .dataframe tbody tr th {\n",
       "        vertical-align: top;\n",
       "    }\n",
       "\n",
       "    .dataframe thead th {\n",
       "        text-align: right;\n",
       "    }\n",
       "</style>\n",
       "<table border=\"1\" class=\"dataframe\">\n",
       "  <thead>\n",
       "    <tr style=\"text-align: right;\">\n",
       "      <th></th>\n",
       "      <th>count</th>\n",
       "      <th>mean</th>\n",
       "      <th>std</th>\n",
       "      <th>min</th>\n",
       "      <th>25%</th>\n",
       "      <th>50%</th>\n",
       "      <th>75%</th>\n",
       "      <th>max</th>\n",
       "    </tr>\n",
       "  </thead>\n",
       "  <tbody>\n",
       "    <tr>\n",
       "      <th>Visit</th>\n",
       "      <td>373.0</td>\n",
       "      <td>1.882038</td>\n",
       "      <td>0.922843</td>\n",
       "      <td>1.000</td>\n",
       "      <td>1.000</td>\n",
       "      <td>2.000</td>\n",
       "      <td>2.000</td>\n",
       "      <td>5.000</td>\n",
       "    </tr>\n",
       "    <tr>\n",
       "      <th>MR Delay</th>\n",
       "      <td>373.0</td>\n",
       "      <td>595.104558</td>\n",
       "      <td>635.485118</td>\n",
       "      <td>0.000</td>\n",
       "      <td>0.000</td>\n",
       "      <td>552.000</td>\n",
       "      <td>873.000</td>\n",
       "      <td>2639.000</td>\n",
       "    </tr>\n",
       "    <tr>\n",
       "      <th>Age</th>\n",
       "      <td>373.0</td>\n",
       "      <td>77.013405</td>\n",
       "      <td>7.640957</td>\n",
       "      <td>60.000</td>\n",
       "      <td>71.000</td>\n",
       "      <td>77.000</td>\n",
       "      <td>82.000</td>\n",
       "      <td>98.000</td>\n",
       "    </tr>\n",
       "    <tr>\n",
       "      <th>EDUC</th>\n",
       "      <td>373.0</td>\n",
       "      <td>14.597855</td>\n",
       "      <td>2.876339</td>\n",
       "      <td>6.000</td>\n",
       "      <td>12.000</td>\n",
       "      <td>15.000</td>\n",
       "      <td>16.000</td>\n",
       "      <td>23.000</td>\n",
       "    </tr>\n",
       "    <tr>\n",
       "      <th>SES</th>\n",
       "      <td>354.0</td>\n",
       "      <td>2.460452</td>\n",
       "      <td>1.134005</td>\n",
       "      <td>1.000</td>\n",
       "      <td>2.000</td>\n",
       "      <td>2.000</td>\n",
       "      <td>3.000</td>\n",
       "      <td>5.000</td>\n",
       "    </tr>\n",
       "    <tr>\n",
       "      <th>MMSE</th>\n",
       "      <td>371.0</td>\n",
       "      <td>27.342318</td>\n",
       "      <td>3.683244</td>\n",
       "      <td>4.000</td>\n",
       "      <td>27.000</td>\n",
       "      <td>29.000</td>\n",
       "      <td>30.000</td>\n",
       "      <td>30.000</td>\n",
       "    </tr>\n",
       "    <tr>\n",
       "      <th>CDR</th>\n",
       "      <td>373.0</td>\n",
       "      <td>0.290885</td>\n",
       "      <td>0.374557</td>\n",
       "      <td>0.000</td>\n",
       "      <td>0.000</td>\n",
       "      <td>0.000</td>\n",
       "      <td>0.500</td>\n",
       "      <td>2.000</td>\n",
       "    </tr>\n",
       "    <tr>\n",
       "      <th>eTIV</th>\n",
       "      <td>373.0</td>\n",
       "      <td>1488.128686</td>\n",
       "      <td>176.139286</td>\n",
       "      <td>1106.000</td>\n",
       "      <td>1357.000</td>\n",
       "      <td>1470.000</td>\n",
       "      <td>1597.000</td>\n",
       "      <td>2004.000</td>\n",
       "    </tr>\n",
       "    <tr>\n",
       "      <th>nWBV</th>\n",
       "      <td>373.0</td>\n",
       "      <td>0.729568</td>\n",
       "      <td>0.037135</td>\n",
       "      <td>0.644</td>\n",
       "      <td>0.700</td>\n",
       "      <td>0.729</td>\n",
       "      <td>0.756</td>\n",
       "      <td>0.837</td>\n",
       "    </tr>\n",
       "    <tr>\n",
       "      <th>ASF</th>\n",
       "      <td>373.0</td>\n",
       "      <td>1.195461</td>\n",
       "      <td>0.138092</td>\n",
       "      <td>0.876</td>\n",
       "      <td>1.099</td>\n",
       "      <td>1.194</td>\n",
       "      <td>1.293</td>\n",
       "      <td>1.587</td>\n",
       "    </tr>\n",
       "  </tbody>\n",
       "</table>\n",
       "</div>"
      ],
      "text/plain": [
       "          count         mean         std       min       25%       50%  \\\n",
       "Visit     373.0     1.882038    0.922843     1.000     1.000     2.000   \n",
       "MR Delay  373.0   595.104558  635.485118     0.000     0.000   552.000   \n",
       "Age       373.0    77.013405    7.640957    60.000    71.000    77.000   \n",
       "EDUC      373.0    14.597855    2.876339     6.000    12.000    15.000   \n",
       "SES       354.0     2.460452    1.134005     1.000     2.000     2.000   \n",
       "MMSE      371.0    27.342318    3.683244     4.000    27.000    29.000   \n",
       "CDR       373.0     0.290885    0.374557     0.000     0.000     0.000   \n",
       "eTIV      373.0  1488.128686  176.139286  1106.000  1357.000  1470.000   \n",
       "nWBV      373.0     0.729568    0.037135     0.644     0.700     0.729   \n",
       "ASF       373.0     1.195461    0.138092     0.876     1.099     1.194   \n",
       "\n",
       "               75%       max  \n",
       "Visit        2.000     5.000  \n",
       "MR Delay   873.000  2639.000  \n",
       "Age         82.000    98.000  \n",
       "EDUC        16.000    23.000  \n",
       "SES          3.000     5.000  \n",
       "MMSE        30.000    30.000  \n",
       "CDR          0.500     2.000  \n",
       "eTIV      1597.000  2004.000  \n",
       "nWBV         0.756     0.837  \n",
       "ASF          1.293     1.587  "
      ]
     },
     "execution_count": 518,
     "metadata": {},
     "output_type": "execute_result"
    }
   ],
   "source": [
    "df.describe().T"
   ]
  },
  {
   "cell_type": "markdown",
   "metadata": {
    "id": "zUC7uPbTtYys"
   },
   "source": [
    "\n",
    "## Features description:\n",
    "*   Subject ID: Subject identification number.\n",
    "*   MRI ID: Image identification number of an individual subject.\n",
    "*   Group: Demented/Nondemented/Converted.\n",
    "*   Visit: Number of subject visits.\n",
    "*  MR Delay: Magnetic resonance (MR) delay is the delay time that is prior to the image procurement.\n",
    "* M/F: Male/Female.\n",
    "* Hand: Right/Left handed.\n",
    "* Age: Subject age while scanning.\n",
    "* EDUC: Subject education level (in years).\n",
    "* SES: Socioeconomic status.\n",
    "* MMSE: Mini-mental state examination score.\n",
    "* CDR: Clinical dementia rating score.\n",
    "* eTIV: Estimated total intracranial volume result.\n",
    "* nWBV: Normalized whole brain volume result.\n",
    "* ASF: Atlas scaling factor.\n",
    "\n",
    "\n",
    "\n",
    "\n",
    "\n"
   ]
  },
  {
   "cell_type": "markdown",
   "metadata": {},
   "source": [
    "Replace 'Converted' with 'Demented' in the 'Group' column."
   ]
  },
  {
   "cell_type": "code",
   "execution_count": 521,
   "metadata": {},
   "outputs": [],
   "source": [
    "df['Group'] = df['Group'].replace('Converted', 'Demented')"
   ]
  },
  {
   "cell_type": "markdown",
   "metadata": {
    "id": "bWia56nkmqzc"
   },
   "source": [
    "### Seperating visits to different columns"
   ]
  },
  {
   "cell_type": "code",
   "execution_count": 523,
   "metadata": {
    "id": "-O3Abme0Cl8Q"
   },
   "outputs": [],
   "source": [
    "# Pivot the DataFrame to add columns for each visit\n",
    "df_pivot = df.pivot(index='Subject ID', columns='Visit', values=['Age', 'MR Delay', 'MMSE', 'CDR', 'eTIV', 'nWBV', 'ASF'])\n",
    "df_pivot.columns = ['_'.join(map(str, col)).strip() for col in df_pivot.columns.values]\n",
    "df_pivot.reset_index(inplace=True)\n",
    "\n",
    "# Add EDUC and SES columns (taking the first occurrence for each Subject ID)\n",
    "df_pivot = df_pivot.merge(df[['Subject ID', 'EDUC', 'SES', 'M/F', 'Group']].drop_duplicates(subset=['Subject ID']), on='Subject ID')"
   ]
  },
  {
   "cell_type": "code",
   "execution_count": 524,
   "metadata": {
    "colab": {
     "base_uri": "https://localhost:8080/",
     "height": 273
    },
    "id": "gUfnJ7mtm0OD",
    "outputId": "c6812dac-d118-4fcb-f967-f01bd61b46a8"
   },
   "outputs": [
    {
     "data": {
      "text/html": [
       "<div>\n",
       "<style scoped>\n",
       "    .dataframe tbody tr th:only-of-type {\n",
       "        vertical-align: middle;\n",
       "    }\n",
       "\n",
       "    .dataframe tbody tr th {\n",
       "        vertical-align: top;\n",
       "    }\n",
       "\n",
       "    .dataframe thead th {\n",
       "        text-align: right;\n",
       "    }\n",
       "</style>\n",
       "<table border=\"1\" class=\"dataframe\">\n",
       "  <thead>\n",
       "    <tr style=\"text-align: right;\">\n",
       "      <th></th>\n",
       "      <th>Subject ID</th>\n",
       "      <th>Age_1</th>\n",
       "      <th>Age_2</th>\n",
       "      <th>Age_3</th>\n",
       "      <th>Age_4</th>\n",
       "      <th>Age_5</th>\n",
       "      <th>MR Delay_1</th>\n",
       "      <th>MR Delay_2</th>\n",
       "      <th>MR Delay_3</th>\n",
       "      <th>MR Delay_4</th>\n",
       "      <th>...</th>\n",
       "      <th>nWBV_5</th>\n",
       "      <th>ASF_1</th>\n",
       "      <th>ASF_2</th>\n",
       "      <th>ASF_3</th>\n",
       "      <th>ASF_4</th>\n",
       "      <th>ASF_5</th>\n",
       "      <th>EDUC</th>\n",
       "      <th>SES</th>\n",
       "      <th>M/F</th>\n",
       "      <th>Group</th>\n",
       "    </tr>\n",
       "  </thead>\n",
       "  <tbody>\n",
       "    <tr>\n",
       "      <th>0</th>\n",
       "      <td>OAS2_0001</td>\n",
       "      <td>87.0</td>\n",
       "      <td>88.0</td>\n",
       "      <td>NaN</td>\n",
       "      <td>NaN</td>\n",
       "      <td>NaN</td>\n",
       "      <td>0.0</td>\n",
       "      <td>457.0</td>\n",
       "      <td>NaN</td>\n",
       "      <td>NaN</td>\n",
       "      <td>...</td>\n",
       "      <td>NaN</td>\n",
       "      <td>0.883</td>\n",
       "      <td>0.876</td>\n",
       "      <td>NaN</td>\n",
       "      <td>NaN</td>\n",
       "      <td>NaN</td>\n",
       "      <td>14</td>\n",
       "      <td>2.0</td>\n",
       "      <td>M</td>\n",
       "      <td>Nondemented</td>\n",
       "    </tr>\n",
       "    <tr>\n",
       "      <th>1</th>\n",
       "      <td>OAS2_0002</td>\n",
       "      <td>75.0</td>\n",
       "      <td>76.0</td>\n",
       "      <td>80.0</td>\n",
       "      <td>NaN</td>\n",
       "      <td>NaN</td>\n",
       "      <td>0.0</td>\n",
       "      <td>560.0</td>\n",
       "      <td>1895.0</td>\n",
       "      <td>NaN</td>\n",
       "      <td>...</td>\n",
       "      <td>NaN</td>\n",
       "      <td>1.046</td>\n",
       "      <td>1.010</td>\n",
       "      <td>1.034</td>\n",
       "      <td>NaN</td>\n",
       "      <td>NaN</td>\n",
       "      <td>12</td>\n",
       "      <td>NaN</td>\n",
       "      <td>M</td>\n",
       "      <td>Demented</td>\n",
       "    </tr>\n",
       "    <tr>\n",
       "      <th>2</th>\n",
       "      <td>OAS2_0004</td>\n",
       "      <td>88.0</td>\n",
       "      <td>90.0</td>\n",
       "      <td>NaN</td>\n",
       "      <td>NaN</td>\n",
       "      <td>NaN</td>\n",
       "      <td>0.0</td>\n",
       "      <td>538.0</td>\n",
       "      <td>NaN</td>\n",
       "      <td>NaN</td>\n",
       "      <td>...</td>\n",
       "      <td>NaN</td>\n",
       "      <td>1.444</td>\n",
       "      <td>1.462</td>\n",
       "      <td>NaN</td>\n",
       "      <td>NaN</td>\n",
       "      <td>NaN</td>\n",
       "      <td>18</td>\n",
       "      <td>3.0</td>\n",
       "      <td>F</td>\n",
       "      <td>Nondemented</td>\n",
       "    </tr>\n",
       "    <tr>\n",
       "      <th>3</th>\n",
       "      <td>OAS2_0005</td>\n",
       "      <td>80.0</td>\n",
       "      <td>83.0</td>\n",
       "      <td>85.0</td>\n",
       "      <td>NaN</td>\n",
       "      <td>NaN</td>\n",
       "      <td>0.0</td>\n",
       "      <td>1010.0</td>\n",
       "      <td>1603.0</td>\n",
       "      <td>NaN</td>\n",
       "      <td>...</td>\n",
       "      <td>NaN</td>\n",
       "      <td>1.039</td>\n",
       "      <td>1.032</td>\n",
       "      <td>1.033</td>\n",
       "      <td>NaN</td>\n",
       "      <td>NaN</td>\n",
       "      <td>12</td>\n",
       "      <td>4.0</td>\n",
       "      <td>M</td>\n",
       "      <td>Nondemented</td>\n",
       "    </tr>\n",
       "    <tr>\n",
       "      <th>4</th>\n",
       "      <td>OAS2_0007</td>\n",
       "      <td>71.0</td>\n",
       "      <td>NaN</td>\n",
       "      <td>73.0</td>\n",
       "      <td>75.0</td>\n",
       "      <td>NaN</td>\n",
       "      <td>0.0</td>\n",
       "      <td>NaN</td>\n",
       "      <td>518.0</td>\n",
       "      <td>1281.0</td>\n",
       "      <td>...</td>\n",
       "      <td>NaN</td>\n",
       "      <td>1.293</td>\n",
       "      <td>NaN</td>\n",
       "      <td>1.286</td>\n",
       "      <td>1.279</td>\n",
       "      <td>NaN</td>\n",
       "      <td>16</td>\n",
       "      <td>NaN</td>\n",
       "      <td>M</td>\n",
       "      <td>Demented</td>\n",
       "    </tr>\n",
       "  </tbody>\n",
       "</table>\n",
       "<p>5 rows × 40 columns</p>\n",
       "</div>"
      ],
      "text/plain": [
       "  Subject ID  Age_1  Age_2  Age_3  Age_4  Age_5  MR Delay_1  MR Delay_2  \\\n",
       "0  OAS2_0001   87.0   88.0    NaN    NaN    NaN         0.0       457.0   \n",
       "1  OAS2_0002   75.0   76.0   80.0    NaN    NaN         0.0       560.0   \n",
       "2  OAS2_0004   88.0   90.0    NaN    NaN    NaN         0.0       538.0   \n",
       "3  OAS2_0005   80.0   83.0   85.0    NaN    NaN         0.0      1010.0   \n",
       "4  OAS2_0007   71.0    NaN   73.0   75.0    NaN         0.0         NaN   \n",
       "\n",
       "   MR Delay_3  MR Delay_4  ...  nWBV_5  ASF_1  ASF_2  ASF_3  ASF_4  ASF_5  \\\n",
       "0         NaN         NaN  ...     NaN  0.883  0.876    NaN    NaN    NaN   \n",
       "1      1895.0         NaN  ...     NaN  1.046  1.010  1.034    NaN    NaN   \n",
       "2         NaN         NaN  ...     NaN  1.444  1.462    NaN    NaN    NaN   \n",
       "3      1603.0         NaN  ...     NaN  1.039  1.032  1.033    NaN    NaN   \n",
       "4       518.0      1281.0  ...     NaN  1.293    NaN  1.286  1.279    NaN   \n",
       "\n",
       "   EDUC  SES  M/F        Group  \n",
       "0    14  2.0    M  Nondemented  \n",
       "1    12  NaN    M     Demented  \n",
       "2    18  3.0    F  Nondemented  \n",
       "3    12  4.0    M  Nondemented  \n",
       "4    16  NaN    M     Demented  \n",
       "\n",
       "[5 rows x 40 columns]"
      ]
     },
     "execution_count": 524,
     "metadata": {},
     "output_type": "execute_result"
    }
   ],
   "source": [
    "df_pivot.head()"
   ]
  },
  {
   "cell_type": "code",
   "execution_count": 525,
   "metadata": {
    "colab": {
     "base_uri": "https://localhost:8080/"
    },
    "id": "WMoisrwgElK9",
    "outputId": "0c0b5204-d7b7-4ca0-947e-c59c2c60d5c7"
   },
   "outputs": [
    {
     "data": {
      "text/plain": [
       "(150, 40)"
      ]
     },
     "execution_count": 525,
     "metadata": {},
     "output_type": "execute_result"
    }
   ],
   "source": [
    "df_pivot.shape"
   ]
  },
  {
   "cell_type": "code",
   "execution_count": 526,
   "metadata": {
    "colab": {
     "base_uri": "https://localhost:8080/"
    },
    "id": "Ceo84GkvEpZm",
    "outputId": "0857ddb5-1d4b-4a99-f92d-a2e0aeee90f6"
   },
   "outputs": [
    {
     "data": {
      "text/plain": [
       "Index(['Subject ID', 'Age_1', 'Age_2', 'Age_3', 'Age_4', 'Age_5', 'MR Delay_1',\n",
       "       'MR Delay_2', 'MR Delay_3', 'MR Delay_4', 'MR Delay_5', 'MMSE_1',\n",
       "       'MMSE_2', 'MMSE_3', 'MMSE_4', 'MMSE_5', 'CDR_1', 'CDR_2', 'CDR_3',\n",
       "       'CDR_4', 'CDR_5', 'eTIV_1', 'eTIV_2', 'eTIV_3', 'eTIV_4', 'eTIV_5',\n",
       "       'nWBV_1', 'nWBV_2', 'nWBV_3', 'nWBV_4', 'nWBV_5', 'ASF_1', 'ASF_2',\n",
       "       'ASF_3', 'ASF_4', 'ASF_5', 'EDUC', 'SES', 'M/F', 'Group'],\n",
       "      dtype='object')"
      ]
     },
     "execution_count": 526,
     "metadata": {},
     "output_type": "execute_result"
    }
   ],
   "source": [
    "df_pivot.columns"
   ]
  },
  {
   "cell_type": "code",
   "execution_count": 527,
   "metadata": {
    "colab": {
     "base_uri": "https://localhost:8080/"
    },
    "id": "1XZrcERH7kuO",
    "outputId": "c3fdd026-76f2-4267-e3be-1260a69448b8"
   },
   "outputs": [
    {
     "name": "stdout",
     "output_type": "stream",
     "text": [
      "Subject ID      0\n",
      "Age_1           0\n",
      "Age_2           6\n",
      "Age_3          92\n",
      "Age_4         135\n",
      "Age_5         144\n",
      "MR Delay_1      0\n",
      "MR Delay_2      6\n",
      "MR Delay_3     92\n",
      "MR Delay_4    135\n",
      "MR Delay_5    144\n",
      "MMSE_1          0\n",
      "MMSE_2          7\n",
      "MMSE_3         93\n",
      "MMSE_4        135\n",
      "MMSE_5        144\n",
      "CDR_1           0\n",
      "CDR_2           6\n",
      "CDR_3          92\n",
      "CDR_4         135\n",
      "CDR_5         144\n",
      "eTIV_1          0\n",
      "eTIV_2          6\n",
      "eTIV_3         92\n",
      "eTIV_4        135\n",
      "eTIV_5        144\n",
      "nWBV_1          0\n",
      "nWBV_2          6\n",
      "nWBV_3         92\n",
      "nWBV_4        135\n",
      "nWBV_5        144\n",
      "ASF_1           0\n",
      "ASF_2           6\n",
      "ASF_3          92\n",
      "ASF_4         135\n",
      "ASF_5         144\n",
      "EDUC            0\n",
      "SES             8\n",
      "M/F             0\n",
      "Group           0\n",
      "dtype: int64\n"
     ]
    }
   ],
   "source": [
    "print(df_pivot.isnull().sum())"
   ]
  },
  {
   "cell_type": "markdown",
   "metadata": {},
   "source": [
    "There are only enough subjects in the first and second visit, so we will keep them and drop the rest."
   ]
  },
  {
   "cell_type": "code",
   "execution_count": 529,
   "metadata": {
    "colab": {
     "base_uri": "https://localhost:8080/"
    },
    "id": "ZotGfnO8a7dl",
    "outputId": "c2048145-8ea1-4692-d7c7-c7eb9c71d132"
   },
   "outputs": [
    {
     "name": "stdout",
     "output_type": "stream",
     "text": [
      "Number of patients after including third visit data: 149\n"
     ]
    }
   ],
   "source": [
    "# Filter out patients without a second visit and those who didn't come to the second visit\n",
    "df_pivot_filtered = df_pivot.dropna(subset=['MMSE_1', 'MMSE_2'])\n",
    "missed_second_visit = df_pivot[(df_pivot['MMSE_2'].isna()) & (df_pivot['MMSE_3'].notna())]\n",
    "\n",
    "# Create a combined dataset including those with data for the third visit\n",
    "combined_data = pd.concat([df_pivot_filtered, missed_second_visit], ignore_index=True)\n",
    "\n",
    "# Use values from the third visit for those who missed the second visit\n",
    "features = ['Age', 'CDR', 'eTIV', 'nWBV', 'ASF']  # Add other features as needed\n",
    "\n",
    "for feature in features:\n",
    "    combined_data.loc[combined_data[f'{feature}_2'].isna(), f'{feature}_2'] = combined_data[f'{feature}_3']\n",
    "\n",
    "# Also do this for MMSE and MR Delay as previously\n",
    "combined_data.loc[combined_data['MMSE_2'].isna(), 'MMSE_2'] = combined_data['MMSE_3']\n",
    "combined_data.loc[combined_data['MR Delay_2'].isna(), 'MR Delay_2'] = combined_data['MR Delay_3']\n",
    "\n",
    "# Now drop third visit data as they are no longer needed\n",
    "columns_3 = [f'{feature}_3' for feature in features] + ['MMSE_3', 'MR Delay_3']\n",
    "columns_4 = [f'{feature}_4' for feature in features] + ['MMSE_4', 'MR Delay_4']\n",
    "columns_5 = [f'{feature}_5' for feature in features] + ['MMSE_5', 'MR Delay_5']\n",
    "columns_to_drop = columns_3 + columns_4 + columns_5\n",
    "combined_data = combined_data.drop(columns=columns_to_drop)\n",
    "\n",
    "# Checking how many patients are left after this adjustment\n",
    "print(f\"Number of patients after including third visit data: {combined_data.shape[0]}\")"
   ]
  },
  {
   "cell_type": "code",
   "execution_count": 530,
   "metadata": {
    "colab": {
     "base_uri": "https://localhost:8080/",
     "height": 1000
    },
    "id": "_27gXLsgwLuX",
    "outputId": "61f9407c-da33-4b02-d717-5dfd39acaf25"
   },
   "outputs": [
    {
     "data": {
      "text/plain": [
       "Subject ID    0\n",
       "Age_1         0\n",
       "Age_2         0\n",
       "MR Delay_1    0\n",
       "MR Delay_2    0\n",
       "MMSE_1        0\n",
       "MMSE_2        0\n",
       "CDR_1         0\n",
       "CDR_2         0\n",
       "eTIV_1        0\n",
       "eTIV_2        0\n",
       "nWBV_1        0\n",
       "nWBV_2        0\n",
       "ASF_1         0\n",
       "ASF_2         0\n",
       "EDUC          0\n",
       "SES           7\n",
       "M/F           0\n",
       "Group         0\n",
       "dtype: int64"
      ]
     },
     "execution_count": 530,
     "metadata": {},
     "output_type": "execute_result"
    }
   ],
   "source": [
    "combined_data.isnull().sum()"
   ]
  },
  {
   "cell_type": "code",
   "execution_count": 531,
   "metadata": {
    "colab": {
     "base_uri": "https://localhost:8080/"
    },
    "id": "WtdmsGuXw4KV",
    "outputId": "31cd4ba5-4452-4130-e80a-b098566b7adf"
   },
   "outputs": [
    {
     "data": {
      "text/plain": [
       "Index(['Subject ID', 'Age_1', 'Age_2', 'MR Delay_1', 'MR Delay_2', 'MMSE_1',\n",
       "       'MMSE_2', 'CDR_1', 'CDR_2', 'eTIV_1', 'eTIV_2', 'nWBV_1', 'nWBV_2',\n",
       "       'ASF_1', 'ASF_2', 'EDUC', 'SES', 'M/F', 'Group'],\n",
       "      dtype='object')"
      ]
     },
     "execution_count": 531,
     "metadata": {},
     "output_type": "execute_result"
    }
   ],
   "source": [
    "combined_data.columns"
   ]
  },
  {
   "cell_type": "code",
   "execution_count": 532,
   "metadata": {
    "colab": {
     "base_uri": "https://localhost:8080/"
    },
    "id": "2bB3JPLfzCej",
    "outputId": "0797a6fc-a2f0-4168-b4a9-a00fd833b34a"
   },
   "outputs": [
    {
     "data": {
      "text/plain": [
       "(149, 19)"
      ]
     },
     "execution_count": 532,
     "metadata": {},
     "output_type": "execute_result"
    }
   ],
   "source": [
    "combined_data.shape"
   ]
  },
  {
   "cell_type": "code",
   "execution_count": 533,
   "metadata": {
    "colab": {
     "base_uri": "https://localhost:8080/",
     "height": 243
    },
    "id": "VX7sdQLiz6Hy",
    "outputId": "b7efb652-d19d-4883-a3f1-86cf14229ea9"
   },
   "outputs": [
    {
     "data": {
      "text/html": [
       "<div>\n",
       "<style scoped>\n",
       "    .dataframe tbody tr th:only-of-type {\n",
       "        vertical-align: middle;\n",
       "    }\n",
       "\n",
       "    .dataframe tbody tr th {\n",
       "        vertical-align: top;\n",
       "    }\n",
       "\n",
       "    .dataframe thead th {\n",
       "        text-align: right;\n",
       "    }\n",
       "</style>\n",
       "<table border=\"1\" class=\"dataframe\">\n",
       "  <thead>\n",
       "    <tr style=\"text-align: right;\">\n",
       "      <th></th>\n",
       "      <th>Subject ID</th>\n",
       "      <th>Age_1</th>\n",
       "      <th>Age_2</th>\n",
       "      <th>MR Delay_1</th>\n",
       "      <th>MR Delay_2</th>\n",
       "      <th>MMSE_1</th>\n",
       "      <th>MMSE_2</th>\n",
       "      <th>CDR_1</th>\n",
       "      <th>CDR_2</th>\n",
       "      <th>eTIV_1</th>\n",
       "      <th>eTIV_2</th>\n",
       "      <th>nWBV_1</th>\n",
       "      <th>nWBV_2</th>\n",
       "      <th>ASF_1</th>\n",
       "      <th>ASF_2</th>\n",
       "      <th>EDUC</th>\n",
       "      <th>SES</th>\n",
       "      <th>M/F</th>\n",
       "      <th>Group</th>\n",
       "    </tr>\n",
       "  </thead>\n",
       "  <tbody>\n",
       "    <tr>\n",
       "      <th>0</th>\n",
       "      <td>OAS2_0001</td>\n",
       "      <td>87.0</td>\n",
       "      <td>88.0</td>\n",
       "      <td>0.0</td>\n",
       "      <td>457.0</td>\n",
       "      <td>27.0</td>\n",
       "      <td>30.0</td>\n",
       "      <td>0.0</td>\n",
       "      <td>0.0</td>\n",
       "      <td>1987.0</td>\n",
       "      <td>2004.0</td>\n",
       "      <td>0.696</td>\n",
       "      <td>0.681</td>\n",
       "      <td>0.883</td>\n",
       "      <td>0.876</td>\n",
       "      <td>14</td>\n",
       "      <td>2.0</td>\n",
       "      <td>M</td>\n",
       "      <td>Nondemented</td>\n",
       "    </tr>\n",
       "    <tr>\n",
       "      <th>1</th>\n",
       "      <td>OAS2_0002</td>\n",
       "      <td>75.0</td>\n",
       "      <td>76.0</td>\n",
       "      <td>0.0</td>\n",
       "      <td>560.0</td>\n",
       "      <td>23.0</td>\n",
       "      <td>28.0</td>\n",
       "      <td>0.5</td>\n",
       "      <td>0.5</td>\n",
       "      <td>1678.0</td>\n",
       "      <td>1738.0</td>\n",
       "      <td>0.736</td>\n",
       "      <td>0.713</td>\n",
       "      <td>1.046</td>\n",
       "      <td>1.010</td>\n",
       "      <td>12</td>\n",
       "      <td>NaN</td>\n",
       "      <td>M</td>\n",
       "      <td>Demented</td>\n",
       "    </tr>\n",
       "    <tr>\n",
       "      <th>2</th>\n",
       "      <td>OAS2_0004</td>\n",
       "      <td>88.0</td>\n",
       "      <td>90.0</td>\n",
       "      <td>0.0</td>\n",
       "      <td>538.0</td>\n",
       "      <td>28.0</td>\n",
       "      <td>27.0</td>\n",
       "      <td>0.0</td>\n",
       "      <td>0.0</td>\n",
       "      <td>1215.0</td>\n",
       "      <td>1200.0</td>\n",
       "      <td>0.710</td>\n",
       "      <td>0.718</td>\n",
       "      <td>1.444</td>\n",
       "      <td>1.462</td>\n",
       "      <td>18</td>\n",
       "      <td>3.0</td>\n",
       "      <td>F</td>\n",
       "      <td>Nondemented</td>\n",
       "    </tr>\n",
       "    <tr>\n",
       "      <th>3</th>\n",
       "      <td>OAS2_0005</td>\n",
       "      <td>80.0</td>\n",
       "      <td>83.0</td>\n",
       "      <td>0.0</td>\n",
       "      <td>1010.0</td>\n",
       "      <td>28.0</td>\n",
       "      <td>29.0</td>\n",
       "      <td>0.0</td>\n",
       "      <td>0.5</td>\n",
       "      <td>1689.0</td>\n",
       "      <td>1701.0</td>\n",
       "      <td>0.712</td>\n",
       "      <td>0.711</td>\n",
       "      <td>1.039</td>\n",
       "      <td>1.032</td>\n",
       "      <td>12</td>\n",
       "      <td>4.0</td>\n",
       "      <td>M</td>\n",
       "      <td>Nondemented</td>\n",
       "    </tr>\n",
       "    <tr>\n",
       "      <th>4</th>\n",
       "      <td>OAS2_0008</td>\n",
       "      <td>93.0</td>\n",
       "      <td>95.0</td>\n",
       "      <td>0.0</td>\n",
       "      <td>742.0</td>\n",
       "      <td>30.0</td>\n",
       "      <td>29.0</td>\n",
       "      <td>0.0</td>\n",
       "      <td>0.0</td>\n",
       "      <td>1272.0</td>\n",
       "      <td>1257.0</td>\n",
       "      <td>0.698</td>\n",
       "      <td>0.703</td>\n",
       "      <td>1.380</td>\n",
       "      <td>1.396</td>\n",
       "      <td>14</td>\n",
       "      <td>2.0</td>\n",
       "      <td>F</td>\n",
       "      <td>Nondemented</td>\n",
       "    </tr>\n",
       "  </tbody>\n",
       "</table>\n",
       "</div>"
      ],
      "text/plain": [
       "  Subject ID  Age_1  Age_2  MR Delay_1  MR Delay_2  MMSE_1  MMSE_2  CDR_1  \\\n",
       "0  OAS2_0001   87.0   88.0         0.0       457.0    27.0    30.0    0.0   \n",
       "1  OAS2_0002   75.0   76.0         0.0       560.0    23.0    28.0    0.5   \n",
       "2  OAS2_0004   88.0   90.0         0.0       538.0    28.0    27.0    0.0   \n",
       "3  OAS2_0005   80.0   83.0         0.0      1010.0    28.0    29.0    0.0   \n",
       "4  OAS2_0008   93.0   95.0         0.0       742.0    30.0    29.0    0.0   \n",
       "\n",
       "   CDR_2  eTIV_1  eTIV_2  nWBV_1  nWBV_2  ASF_1  ASF_2  EDUC  SES M/F  \\\n",
       "0    0.0  1987.0  2004.0   0.696   0.681  0.883  0.876    14  2.0   M   \n",
       "1    0.5  1678.0  1738.0   0.736   0.713  1.046  1.010    12  NaN   M   \n",
       "2    0.0  1215.0  1200.0   0.710   0.718  1.444  1.462    18  3.0   F   \n",
       "3    0.5  1689.0  1701.0   0.712   0.711  1.039  1.032    12  4.0   M   \n",
       "4    0.0  1272.0  1257.0   0.698   0.703  1.380  1.396    14  2.0   F   \n",
       "\n",
       "         Group  \n",
       "0  Nondemented  \n",
       "1     Demented  \n",
       "2  Nondemented  \n",
       "3  Nondemented  \n",
       "4  Nondemented  "
      ]
     },
     "execution_count": 533,
     "metadata": {},
     "output_type": "execute_result"
    }
   ],
   "source": [
    "combined_data.head()"
   ]
  },
  {
   "cell_type": "markdown",
   "metadata": {},
   "source": [
    "Check for the group distribution."
   ]
  },
  {
   "cell_type": "code",
   "execution_count": 535,
   "metadata": {
    "colab": {
     "base_uri": "https://localhost:8080/",
     "height": 209
    },
    "id": "g-v63CTokXe8",
    "outputId": "d4a907b9-b7ce-4e4c-e27c-d0d8f0bf9d23"
   },
   "outputs": [
    {
     "data": {
      "text/plain": [
       "Group\n",
       "Demented       77\n",
       "Nondemented    72\n",
       "Name: count, dtype: int64"
      ]
     },
     "execution_count": 535,
     "metadata": {},
     "output_type": "execute_result"
    }
   ],
   "source": [
    "combined_data['Group'].value_counts()"
   ]
  },
  {
   "cell_type": "code",
   "execution_count": 536,
   "metadata": {},
   "outputs": [
    {
     "data": {
      "text/plain": [
       "Subject ID    0\n",
       "Age_1         0\n",
       "Age_2         0\n",
       "MR Delay_1    0\n",
       "MR Delay_2    0\n",
       "MMSE_1        0\n",
       "MMSE_2        0\n",
       "CDR_1         0\n",
       "CDR_2         0\n",
       "eTIV_1        0\n",
       "eTIV_2        0\n",
       "nWBV_1        0\n",
       "nWBV_2        0\n",
       "ASF_1         0\n",
       "ASF_2         0\n",
       "EDUC          0\n",
       "SES           7\n",
       "M/F           0\n",
       "Group         0\n",
       "dtype: int64"
      ]
     },
     "execution_count": 536,
     "metadata": {},
     "output_type": "execute_result"
    }
   ],
   "source": [
    "combined_data.isnull().sum()"
   ]
  },
  {
   "cell_type": "code",
   "execution_count": 537,
   "metadata": {},
   "outputs": [
    {
     "data": {
      "text/plain": [
       "Subject ID    149\n",
       "Age_1          34\n",
       "Age_2          34\n",
       "MR Delay_1      1\n",
       "MR Delay_2    132\n",
       "MMSE_1         13\n",
       "MMSE_2         15\n",
       "CDR_1           3\n",
       "CDR_2           4\n",
       "eTIV_1        130\n",
       "eTIV_2        129\n",
       "nWBV_1         90\n",
       "nWBV_2         89\n",
       "ASF_1         128\n",
       "ASF_2         130\n",
       "EDUC           12\n",
       "SES             5\n",
       "M/F             2\n",
       "Group           2\n",
       "dtype: int64"
      ]
     },
     "execution_count": 537,
     "metadata": {},
     "output_type": "execute_result"
    }
   ],
   "source": [
    "combined_data.nunique()"
   ]
  },
  {
   "cell_type": "markdown",
   "metadata": {},
   "source": [
    "Identify numerical and categorical features"
   ]
  },
  {
   "cell_type": "code",
   "execution_count": 539,
   "metadata": {},
   "outputs": [],
   "source": [
    "numerical_features = ['Age_1', 'MR Delay_2', 'MMSE_1', \n",
    "                        'eTIV_1', 'nWBV_1',\n",
    "                      'ASF_1', 'EDUC']\n",
    "categorical_features = ['CDR_1', 'SES', 'M/F', 'Group']"
   ]
  },
  {
   "cell_type": "code",
   "execution_count": 540,
   "metadata": {
    "colab": {
     "base_uri": "https://localhost:8080/",
     "height": 604
    },
    "id": "2_Iwtm3MXAsG",
    "outputId": "fb110a23-1b13-4088-dc6f-850cd86195b4"
   },
   "outputs": [
    {
     "data": {
      "image/png": "[encoded data removed]",
      "text/plain": [
       "<Figure size 1500x1200 with 7 Axes>"
      ]
     },
     "metadata": {},
     "output_type": "display_data"
    }
   ],
   "source": [
    "# Create a figure for numerical features\n",
    "num_rows = (len(numerical_features) + 2) // 3  # Adjust for 3 columns\n",
    "fig, axs = plt.subplots(num_rows, 3, figsize=(15, num_rows * 4))\n",
    "\n",
    "for i, feature in enumerate(numerical_features):\n",
    "    ax = axs[i // 3, i % 3]\n",
    "    sns.histplot(combined_data[feature], ax=ax, kde=True)\n",
    "    ax.set_title(f'Distribution of {feature}')\n",
    "    ax.set_xlabel(feature)\n",
    "    ax.set_ylabel('Frequency')\n",
    "\n",
    "# Hide any empty subplots\n",
    "for j in range(i + 1, num_rows * 3):\n",
    "    fig.delaxes(axs.flatten()[j])\n",
    "\n",
    "plt.tight_layout()\n",
    "plt.show()"
   ]
  },
  {
   "cell_type": "code",
   "execution_count": 541,
   "metadata": {},
   "outputs": [
    {
     "data": {
      "image/png": "[encoded data removed]",
      "text/plain": [
       "<Figure size 1500x800 with 4 Axes>"
      ]
     },
     "metadata": {},
     "output_type": "display_data"
    }
   ],
   "source": [
    "# Create a figure for categorical features\n",
    "cat_rows = (len(categorical_features) + 2) // 3\n",
    "fig, axs = plt.subplots(cat_rows, 3, figsize=(15, cat_rows * 4))\n",
    "\n",
    "for i, feature in enumerate(categorical_features):\n",
    "    ax = axs[i // 3, i % 3]\n",
    "    sns.countplot(x=feature, data=combined_data, ax=ax)\n",
    "    ax.set_title(f'Count of {feature}')\n",
    "    ax.set_xlabel(feature)\n",
    "    ax.set_ylabel('Count')\n",
    "\n",
    "# Hide any empty subplots\n",
    "for j in range(i + 1, cat_rows * 3):\n",
    "    fig.delaxes(axs.flatten()[j])\n",
    "\n",
    "plt.tight_layout()\n",
    "plt.show()"
   ]
  },
  {
   "cell_type": "markdown",
   "metadata": {
    "id": "g-F7SxfQqyPY"
   },
   "source": [
    "## Statistical tests"
   ]
  },
  {
   "cell_type": "markdown",
   "metadata": {},
   "source": [
    "Create a dataframe to store results."
   ]
  },
  {
   "cell_type": "code",
   "execution_count": 544,
   "metadata": {},
   "outputs": [],
   "source": [
    "demented_df = combined_data[combined_data['Group'] == 'Demented']\n",
    "nondemented_df = combined_data[combined_data['Group'] == 'Nondemented']"
   ]
  },
  {
   "cell_type": "markdown",
   "metadata": {
    "id": "oSTb_2KDqrnn"
   },
   "source": [
    "### Normality tests"
   ]
  },
  {
   "cell_type": "code",
   "execution_count": 546,
   "metadata": {
    "id": "-3v-UPyvmkrP"
   },
   "outputs": [],
   "source": [
    "# Kolmogorov-Smirnov Test\n",
    "def ks_test(data, feat):\n",
    "  ks_stat, ks_p = kstest(data[feat], 'norm', args=(np.mean(data[feat]), np.std(data[feat])))\n",
    "  return ks_stat, ks_p"
   ]
  },
  {
   "cell_type": "markdown",
   "metadata": {},
   "source": [
    "Check which features are normally distributed."
   ]
  },
  {
   "cell_type": "code",
   "execution_count": 548,
   "metadata": {},
   "outputs": [
    {
     "name": "stdout",
     "output_type": "stream",
     "text": [
      "Features with normal distribution in both groups:\n",
      "Age_1\n",
      "MR Delay_2\n",
      "MMSE_1\n",
      "eTIV_1\n",
      "nWBV_1\n",
      "ASF_1\n"
     ]
    }
   ],
   "source": [
    "# Initialize a list to store results\n",
    "results = []\n",
    "\n",
    "# Loop through numerical features and perform the KS test\n",
    "for f in numerical_features:\n",
    "    # Test for the demented group\n",
    "    ks_stat_d, ks_p_d = ks_test(demented_df, f)\n",
    "    if ks_p_d > 0.05:\n",
    "        results.append({'feature': f, 'group': 'Demented', 'statistic': ks_stat_d, 'p-value': ks_p_d, 'test': 'KS Test'})\n",
    "    \n",
    "    # Test for the nondemented group\n",
    "    ks_stat_nd, ks_p_nd = ks_test(nondemented_df, f)\n",
    "    if ks_p_nd > 0.05:\n",
    "        results.append({'feature': f, 'group': 'Nondemented', 'statistic': ks_stat_nd, 'p-value': ks_p_nd, 'test': 'KS Test'})\n",
    "\n",
    "# Create DataFrame from the results list\n",
    "results_df = pd.DataFrame(results)\n",
    "\n",
    "# Print features that are normal for both groups\n",
    "both_norm_feat = results_df['feature'].unique()\n",
    "if len(both_norm_feat) > 0:\n",
    "    print(\"Features with normal distribution in both groups:\")\n",
    "    for feature in both_norm_feat:\n",
    "        print(feature)"
   ]
  },
  {
   "cell_type": "markdown",
   "metadata": {},
   "source": [
    "For the non-normal features, we will perform the Mann Whitney U test."
   ]
  },
  {
   "cell_type": "markdown",
   "metadata": {
    "id": "81C1RgkRmrs3"
   },
   "source": [
    "### Mann Whitney U test"
   ]
  },
  {
   "cell_type": "markdown",
   "metadata": {},
   "source": [
    "#### 'EDUC' feature"
   ]
  },
  {
   "cell_type": "code",
   "execution_count": 552,
   "metadata": {},
   "outputs": [
    {
     "name": "stdout",
     "output_type": "stream",
     "text": [
      "Mann-Whitney U Test Statistic: 2099.0\n",
      "p-value: 0.00917151338646463\n"
     ]
    }
   ],
   "source": [
    "# Divide into groups\n",
    "group1 = demented_df['EDUC']\n",
    "group2 = nondemented_df['EDUC']\n",
    "\n",
    "# Perform the Mann-Whitney U test\n",
    "stat, p_value = mannwhitneyu(group1, group2)\n",
    "\n",
    "# Create a new DataFrame for the results\n",
    "new_result = pd.DataFrame({\n",
    "    'feature': ['EDUC'],\n",
    "    'group': ['Both'],\n",
    "    'statistic': [stat],\n",
    "    'p-value': [p_value],\n",
    "    'test': ['Mann-Whitney U Test'] \n",
    "})\n",
    "\n",
    "# Concatenate with results_df\n",
    "results_df = pd.concat([results_df, new_result], ignore_index=True)\n",
    "\n",
    "# Print the results\n",
    "print(f'Mann-Whitney U Test Statistic: {stat}')\n",
    "print(f'p-value: {p_value}')"
   ]
  },
  {
   "cell_type": "markdown",
   "metadata": {
    "id": "puDrzP-TZ9ad"
   },
   "source": [
    "#### 'SES' feature"
   ]
  },
  {
   "cell_type": "code",
   "execution_count": 554,
   "metadata": {},
   "outputs": [
    {
     "name": "stdout",
     "output_type": "stream",
     "text": [
      "Mann-Whitney U Test Statistic: 2702.0\n",
      "p-value: 0.4445694571201432\n"
     ]
    }
   ],
   "source": [
    "# Divide into groups and drop NaN values\n",
    "group1 = demented_df.dropna(subset=['SES'])['SES']\n",
    "group2 = nondemented_df.dropna(subset=['SES'])['SES']\n",
    "\n",
    "# Perform the Mann-Whitney U test\n",
    "stat, p_value = mannwhitneyu(group1, group2)\n",
    "\n",
    "# Create a new DataFrame for the results\n",
    "new_result = pd.DataFrame({\n",
    "    'feature': ['SES'],\n",
    "    'group': ['Both'],\n",
    "    'statistic': [stat],\n",
    "    'p-value': [p_value],\n",
    "    'test': ['Mann-Whitney U Test']  # Add the test name\n",
    "})\n",
    "\n",
    "# Concatenate with results_df\n",
    "results_df = pd.concat([results_df, new_result], ignore_index=True)\n",
    "\n",
    "# Print the results\n",
    "print(f'Mann-Whitney U Test Statistic: {stat}')\n",
    "print(f'p-value: {p_value}')"
   ]
  },
  {
   "cell_type": "markdown",
   "metadata": {
    "id": "HceFtw6rqjfy"
   },
   "source": [
    "### Independent Samples T-Test"
   ]
  },
  {
   "cell_type": "markdown",
   "metadata": {
    "id": "XA-SSHuRtpSk"
   },
   "source": [
    "Make sure the variances of the two groups are roughly equal using Levene's test."
   ]
  },
  {
   "cell_type": "code",
   "execution_count": 557,
   "metadata": {},
   "outputs": [
    {
     "name": "stdout",
     "output_type": "stream",
     "text": [
      "Age_1\n",
      "Levene's Test Statistic: 1.837932409225935\n",
      "p-value: 0.17727259296596184\n",
      "\n",
      "nWBV_1\n",
      "Levene's Test Statistic: 1.8047719358860415\n",
      "p-value: 0.18120686789352203\n",
      "\n",
      "eTIV_1\n",
      "Levene's Test Statistic: 1.1114802028125428\n",
      "p-value: 0.29349015423658026\n",
      "\n"
     ]
    }
   ],
   "source": [
    "for f in ['Age_1', 'nWBV_1', 'eTIV_1']:\n",
    "    group1 = demented_df[f]\n",
    "    group2 = nondemented_df[f]\n",
    "\n",
    "    # Perform Levene's test\n",
    "    stat, p_value = levene(group1, group2)\n",
    "\n",
    "    # Create a new DataFrame for the results\n",
    "    new_result = pd.DataFrame({\n",
    "        'feature': [f],\n",
    "        'group': ['Both'],\n",
    "        'statistic': [stat],\n",
    "        'p-value': [p_value],\n",
    "        'test': ['Levene\\'s Test'] \n",
    "    })\n",
    "\n",
    "    # Concatenate with results_df\n",
    "    results_df = pd.concat([results_df, new_result], ignore_index=True)\n",
    "\n",
    "    # Output the result\n",
    "    print(f\"{f}\")\n",
    "    print(f'Levene\\'s Test Statistic: {stat}')\n",
    "    print(f'p-value: {p_value}')\n",
    "    print()"
   ]
  },
  {
   "cell_type": "markdown",
   "metadata": {
    "id": "hNTUK8HmvYUg"
   },
   "source": [
    "Indeed the variances between the Demented and Nondemented groups are not significantly different for these features."
   ]
  },
  {
   "cell_type": "code",
   "execution_count": 559,
   "metadata": {},
   "outputs": [
    {
     "name": "stdout",
     "output_type": "stream",
     "text": [
      "Age_1:\n",
      "T-statistic: 0.04012484772841151\n",
      "p-value: 0.9680480363991475\n",
      "\n",
      "nWBV_1:\n",
      "T-statistic: -3.346431290943628\n",
      "p-value: 0.0010393521246039239\n",
      "\n",
      "ASF_1:\n",
      "T-statistic: 0.09425811147661887\n",
      "p-value: 0.9250324807164405\n",
      "\n"
     ]
    }
   ],
   "source": [
    "# List of features to test\n",
    "features = ['Age_1', 'nWBV_1', 'ASF_1']\n",
    "\n",
    "# Perform t-tests for each feature\n",
    "for feature in features:\n",
    "    # Extract data for each group\n",
    "    group1 = demented_df[feature]\n",
    "    group2 = nondemented_df[feature]\n",
    "\n",
    "    # Perform the independent samples t-test\n",
    "    t_stat, p_value = ttest_ind(group1, group2, equal_var=True)  # equal_var=True assumes equal variances\n",
    "\n",
    "    # Create a new DataFrame for the results\n",
    "    new_result = pd.DataFrame({\n",
    "        'feature': [feature],\n",
    "        'group': ['Both'],\n",
    "        'statistic': [t_stat],\n",
    "        'p-value': [p_value],\n",
    "        'test': ['T-test']  # Add the test name\n",
    "    })\n",
    "\n",
    "    # Concatenate with results_df\n",
    "    results_df = pd.concat([results_df, new_result], ignore_index=True)\n",
    "\n",
    "    # Output the result\n",
    "    print(f\"{feature}:\")\n",
    "    print(f'T-statistic: {t_stat}')\n",
    "    print(f'p-value: {p_value}')\n",
    "    print()"
   ]
  },
  {
   "cell_type": "code",
   "execution_count": 560,
   "metadata": {},
   "outputs": [
    {
     "name": "stdout",
     "output_type": "stream",
     "text": [
      "Mean nWBV (Demented): 0.7267142857142858, Std: 0.032060738878628633\n",
      "Mean nWBV (Nondemented): 0.746125, Std: 0.03862128782471447\n"
     ]
    }
   ],
   "source": [
    "# Calculate descriptive statistics for nWBV by group\n",
    "mean_nwbv_demented = combined_data[combined_data['Group'] == 'Demented']['nWBV_1'].mean()\n",
    "std_nwbv_demented = combined_data[combined_data['Group'] == 'Demented']['nWBV_1'].std()\n",
    "\n",
    "mean_nwbv_nondemented = combined_data[combined_data['Group'] == 'Nondemented']['nWBV_1'].mean()\n",
    "std_nwbv_nondemented = combined_data[combined_data['Group'] == 'Nondemented']['nWBV_1'].std()\n",
    "\n",
    "print(f\"Mean nWBV (Demented): {mean_nwbv_demented}, Std: {std_nwbv_demented}\")\n",
    "print(f\"Mean nWBV (Nondemented): {mean_nwbv_nondemented}, Std: {std_nwbv_nondemented}\")"
   ]
  },
  {
   "cell_type": "code",
   "execution_count": 561,
   "metadata": {},
   "outputs": [
    {
     "data": {
      "image/png": "[encoded data removed]",
      "text/plain": [
       "<Figure size 800x600 with 1 Axes>"
      ]
     },
     "metadata": {},
     "output_type": "display_data"
    }
   ],
   "source": [
    "# Set the palette\n",
    "palette = sns.color_palette('Set2')\n",
    "\n",
    "plt.figure(figsize=(8, 6))\n",
    "sns.boxplot(x='Group', y='nWBV_1', data=combined_data, hue='Group', palette='Set2', legend=False)\n",
    "\n",
    "# Add titles and labels\n",
    "plt.title('Distribution of Normalized Whole Brain Volume (nWBV) by Group', fontsize=16)\n",
    "plt.xlabel('Group', fontsize=14)\n",
    "plt.ylabel('Normalized Whole Brain Volume (nWBV)', fontsize=14)\n",
    "\n",
    "# Show the plot\n",
    "plt.grid()\n",
    "plt.show()"
   ]
  },
  {
   "cell_type": "markdown",
   "metadata": {
    "id": "rKq7cjIjXZaQ"
   },
   "source": [
    "### Chi-Square test"
   ]
  },
  {
   "cell_type": "code",
   "execution_count": 563,
   "metadata": {},
   "outputs": [
    {
     "name": "stdout",
     "output_type": "stream",
     "text": [
      "Contingency Table:\n",
      "Group  Demented  Nondemented\n",
      "M/F                         \n",
      "F            37           50\n",
      "M            40           22\n",
      "\n",
      "Expected Frequencies:\n",
      "Group   Demented  Nondemented\n",
      "M/F                          \n",
      "F      44.959732    42.040268\n",
      "M      32.040268    29.959732\n",
      "\n",
      "Chi-Square Statistic: 6.15560918155815\n",
      "p-value: 0.013099599069622993\n"
     ]
    }
   ],
   "source": [
    "# Create a contingency table\n",
    "contingency_table = pd.crosstab(combined_data['M/F'], combined_data['Group'])\n",
    "\n",
    "# Perform Chi-Square test\n",
    "stat, p_value, dof, expected = chi2_contingency(contingency_table)\n",
    "\n",
    "# Store the results in results_df\n",
    "results_df = pd.concat([results_df, pd.DataFrame({\n",
    "    'feature': ['M/F'],\n",
    "    'group': ['Both'],\n",
    "    'statistic': [stat],\n",
    "    'p-value': [p_value],\n",
    "    'test': ['Chi-Square'] \n",
    "})], ignore_index=True)\n",
    "\n",
    "# Output the results\n",
    "print('Contingency Table:')\n",
    "print(contingency_table)\n",
    "\n",
    "print('\\nExpected Frequencies:')\n",
    "print(pd.DataFrame(expected, index=contingency_table.index, columns=contingency_table.columns))\n",
    "\n",
    "print(f'\\nChi-Square Statistic: {stat}')\n",
    "print(f'p-value: {p_value}')"
   ]
  },
  {
   "cell_type": "markdown",
   "metadata": {
    "id": "Zp0wWL63ZtZs"
   },
   "source": [
    "### Paired comparisons"
   ]
  },
  {
   "cell_type": "markdown",
   "metadata": {},
   "source": [
    "#### MMSE change"
   ]
  },
  {
   "cell_type": "code",
   "execution_count": 566,
   "metadata": {},
   "outputs": [
    {
     "name": "stdout",
     "output_type": "stream",
     "text": [
      "Demented Group - Wilcoxon Test Statistic: 540.0, p-value: 0.005393782068663349\n",
      "Nondemented Group - Wilcoxon Test Statistic: 414.5, p-value: 0.4514454726470859\n"
     ]
    }
   ],
   "source": [
    "# Perform Wilcoxon Signed-Rank Test for the Demented group\n",
    "stat_demented, p_value_demented = wilcoxon(demented_df['MMSE_1'], demented_df['MMSE_2'])\n",
    "print(f'Demented Group - Wilcoxon Test Statistic: {stat_demented}, p-value: {p_value_demented}')\n",
    "\n",
    "results_df = pd.concat([results_df, pd.DataFrame({\n",
    "    'feature': ['MMSE_1 vs MMSE_2'],\n",
    "    'group': ['Demented'],\n",
    "    'statistic': [stat_demented],\n",
    "    'p-value': [p_value_demented],\n",
    "    'test': ['Wilcoxon Signed-Rank']  \n",
    "})], ignore_index=True)\n",
    "\n",
    "# Perform Wilcoxon Signed-Rank Test for the Nondemented group\n",
    "stat_nondemented, p_value_nondemented = wilcoxon(nondemented_df['MMSE_1'], nondemented_df['MMSE_2'])\n",
    "print(f'Nondemented Group - Wilcoxon Test Statistic: {stat_nondemented}, p-value: {p_value_nondemented}')\n",
    "\n",
    "results_df = pd.concat([results_df, pd.DataFrame({\n",
    "    'feature': ['MMSE_1 vs MMSE_2'],\n",
    "    'group': ['Nondemented'],\n",
    "    'statistic': [stat_nondemented],\n",
    "    'p-value': [p_value_nondemented],\n",
    "    'test': ['Wilcoxon Signed-Rank'] \n",
    "})], ignore_index=True)"
   ]
  },
  {
   "cell_type": "markdown",
   "metadata": {},
   "source": [
    "#### eTIV change"
   ]
  },
  {
   "cell_type": "code",
   "execution_count": 568,
   "metadata": {},
   "outputs": [
    {
     "name": "stdout",
     "output_type": "stream",
     "text": [
      "Demented Group - Wilcoxon Test Statistic: 797.5, p-value: 0.0009164318621701927\n",
      "Nondemented Group - Wilcoxon Test Statistic: 1067.5, p-value: 0.16648981445088074\n"
     ]
    }
   ],
   "source": [
    "# Perform Wilcoxon Signed-Rank Test for the Demented group\n",
    "stat_demented, p_value_demented = wilcoxon(demented_df['eTIV_1'], demented_df['eTIV_2'])\n",
    "print(f'Demented Group - Wilcoxon Test Statistic: {stat_demented}, p-value: {p_value_demented}')\n",
    "\n",
    "# Store the results in results_df\n",
    "results_df = pd.concat([results_df, pd.DataFrame({\n",
    "    'feature': ['eTIV_1 vs eTIV_2'],\n",
    "    'group': ['Demented'],\n",
    "    'statistic': [stat_demented],\n",
    "    'p-value': [p_value_demented],\n",
    "    'test': ['Wilcoxon Signed-Rank']  \n",
    "})], ignore_index=True)\n",
    "\n",
    "# Perform Wilcoxon Signed-Rank Test for the Nondemented group\n",
    "stat_nondemented, p_value_nondemented = wilcoxon(nondemented_df['eTIV_1'], nondemented_df['eTIV_2'])\n",
    "print(f'Nondemented Group - Wilcoxon Test Statistic: {stat_nondemented}, p-value: {p_value_nondemented}')\n",
    "\n",
    "# Store the results in results_df\n",
    "results_df = pd.concat([results_df, pd.DataFrame({\n",
    "    'feature': ['eTIV_1 vs eTIV_2'],\n",
    "    'group': ['Nondemented'],\n",
    "    'statistic': [stat_nondemented],\n",
    "    'p-value': [p_value_nondemented],\n",
    "    'test': ['Wilcoxon Signed-Rank']  \n",
    "})], ignore_index=True)"
   ]
  },
  {
   "cell_type": "markdown",
   "metadata": {},
   "source": [
    "The change in 'eTIV' is significant only in the demented group. Let's explore this further:"
   ]
  },
  {
   "cell_type": "code",
   "execution_count": 570,
   "metadata": {},
   "outputs": [],
   "source": [
    "combined_data['eTIV_change'] = combined_data['eTIV_2'] - combined_data['eTIV_1']"
   ]
  },
  {
   "cell_type": "code",
   "execution_count": 571,
   "metadata": {},
   "outputs": [
    {
     "name": "stdout",
     "output_type": "stream",
     "text": [
      "Percentage of Demented Patients with Decreasing nWBV: 37.66233766233766%\n",
      "Percentage of Nondemented Patients with Decreasing nWBV: 45.83333333333333%\n"
     ]
    }
   ],
   "source": [
    "# Percentage of patients with negative (decreasing) nWBV change\n",
    "demented_decreasing = (combined_data[combined_data['Group'] == 'Demented']['eTIV_change'] < 0).mean() * 100\n",
    "nondemented_decreasing = (combined_data[combined_data['Group'] == 'Nondemented']['eTIV_change'] < 0).mean() * 100\n",
    "\n",
    "print(f\"Percentage of Demented Patients with Decreasing nWBV: {demented_decreasing}%\")\n",
    "print(f\"Percentage of Nondemented Patients with Decreasing nWBV: {nondemented_decreasing}%\")"
   ]
  },
  {
   "cell_type": "code",
   "execution_count": 572,
   "metadata": {},
   "outputs": [
    {
     "name": "stdout",
     "output_type": "stream",
     "text": [
      "Visit 1 - Mean eTIV: 1473.05, Std: 164.43\n",
      "Visit 2 - Mean eTIV: 1485.09, Std: 166.65\n"
     ]
    }
   ],
   "source": [
    "# Calculate mean and standard deviation for Visit 1\n",
    "mean_eTIV_1 = demented_df['eTIV_1'].mean()\n",
    "std_eTIV_1 = demented_df['eTIV_1'].std()\n",
    "\n",
    "# Calculate mean and standard deviation for Visit 2\n",
    "mean_eTIV_2 = demented_df['eTIV_2'].mean()\n",
    "std_eTIV_2 = demented_df['eTIV_2'].std()\n",
    "\n",
    "print(f\"Visit 1 - Mean eTIV: {mean_eTIV_1:.2f}, Std: {std_eTIV_1:.2f}\")\n",
    "print(f\"Visit 2 - Mean eTIV: {mean_eTIV_2:.2f}, Std: {std_eTIV_2:.2f}\")"
   ]
  },
  {
   "cell_type": "code",
   "execution_count": 573,
   "metadata": {},
   "outputs": [
    {
     "data": {
      "image/png": "[encoded data removed]",
      "text/plain": [
       "<Figure size 1000x600 with 1 Axes>"
      ]
     },
     "metadata": {},
     "output_type": "display_data"
    }
   ],
   "source": [
    "# Sample data\n",
    "data = {\n",
    "    'Visit': ['Visit 1'] * len(demented_df) + ['Visit 2'] * len(demented_df),\n",
    "    'eTIV': list(demented_df['eTIV_1']) + list(demented_df['eTIV_2'])\n",
    "}\n",
    "\n",
    "# Create a DataFrame\n",
    "eTIV_df = pd.DataFrame(data)\n",
    "\n",
    "# Create the boxplot\n",
    "plt.figure(figsize=(10, 6))\n",
    "sns.boxplot(x='Visit', y='eTIV', hue='Visit', data=eTIV_df, palette='Set1', legend=False)\n",
    "plt.title('Boxplot of eTIV for Demented Subjects Across Visits')\n",
    "plt.xlabel('Visit')\n",
    "plt.ylabel('Estimated Total Intracranial Volume (eTIV)')\n",
    "plt.grid(True)\n",
    "plt.savefig('eTIV_boxplot.png')  # Save the figure\n",
    "plt.show()"
   ]
  },
  {
   "cell_type": "code",
   "execution_count": 574,
   "metadata": {},
   "outputs": [
    {
     "data": {
      "image/png": "[encoded data removed]",
      "text/plain": [
       "<Figure size 640x480 with 1 Axes>"
      ]
     },
     "metadata": {},
     "output_type": "display_data"
    }
   ],
   "source": [
    "# KDE plot of eTIV change for each group with switched colors\n",
    "sns.kdeplot(combined_data[combined_data['Group'] == 'Demented']['eTIV_change'], color=palette[1], label='Demented', fill=True)  # Orange\n",
    "sns.kdeplot(combined_data[combined_data['Group'] == 'Nondemented']['eTIV_change'], color=palette[0], label='Nondemented', fill=True)  # Green\n",
    "\n",
    "# Set the title and labels\n",
    "plt.title('Distribution of eTIV Change Between Visits')\n",
    "plt.legend()\n",
    "plt.grid(True)\n",
    "plt.show()"
   ]
  },
  {
   "cell_type": "markdown",
   "metadata": {},
   "source": [
    "#### nWBV change"
   ]
  },
  {
   "cell_type": "code",
   "execution_count": 576,
   "metadata": {},
   "outputs": [
    {
     "name": "stdout",
     "output_type": "stream",
     "text": [
      "Demented Group - Wilcoxon Test Statistic: 204.0, p-value: 7.026542961814919e-11\n",
      "Nondemented Group - Wilcoxon Test Statistic: 336.0, p-value: 1.1041116092011101e-07\n"
     ]
    }
   ],
   "source": [
    "# Perform Wilcoxon Signed-Rank Test for the Demented group\n",
    "stat_demented, p_value_demented = wilcoxon(demented_df['nWBV_1'], demented_df['nWBV_2'])\n",
    "print(f'Demented Group - Wilcoxon Test Statistic: {stat_demented}, p-value: {p_value_demented}')\n",
    "\n",
    "# Store the results in results_df\n",
    "results_df = pd.concat([results_df, pd.DataFrame({\n",
    "    'feature': ['nWBV_1 vs nWBV_2'],\n",
    "    'group': ['Demented'],\n",
    "    'statistic': [stat_demented],\n",
    "    'p-value': [p_value_demented],\n",
    "    'test': ['Wilcoxon Signed-Rank']  \n",
    "})], ignore_index=True)\n",
    "\n",
    "# Perform Wilcoxon Signed-Rank Test for the Nondemented group\n",
    "stat_nondemented, p_value_nondemented = wilcoxon(nondemented_df['nWBV_1'], nondemented_df['nWBV_2'])\n",
    "print(f'Nondemented Group - Wilcoxon Test Statistic: {stat_nondemented}, p-value: {p_value_nondemented}')\n",
    "\n",
    "# Store the results in results_df\n",
    "results_df = pd.concat([results_df, pd.DataFrame({\n",
    "    'feature': ['nWBV_1 vs nWBV_2'],\n",
    "    'group': ['Nondemented'],\n",
    "    'statistic': [stat_nondemented],\n",
    "    'p-value': [p_value_nondemented],\n",
    "    'test': ['Wilcoxon Signed-Rank']  \n",
    "})], ignore_index=True)"
   ]
  },
  {
   "cell_type": "markdown",
   "metadata": {},
   "source": [
    "The change in 'nWBV' is significant in both groups."
   ]
  },
  {
   "cell_type": "code",
   "execution_count": 578,
   "metadata": {},
   "outputs": [],
   "source": [
    "combined_data['nWBV_change'] = combined_data['nWBV_2'] - combined_data['nWBV_1']"
   ]
  },
  {
   "cell_type": "code",
   "execution_count": 579,
   "metadata": {},
   "outputs": [
    {
     "data": {
      "image/png": "[encoded data removed]",
      "text/plain": [
       "<Figure size 640x480 with 1 Axes>"
      ]
     },
     "metadata": {},
     "output_type": "display_data"
    },
    {
     "data": {
      "image/png": "[encoded data removed]",
      "text/plain": [
       "<Figure size 640x480 with 1 Axes>"
      ]
     },
     "metadata": {},
     "output_type": "display_data"
    }
   ],
   "source": [
    "# Box plot of nWBV change for each group\n",
    "sns.boxplot(x='Group', y='nWBV_change', data=combined_data)\n",
    "plt.title('nWBV Change Between Visits for Each Group')\n",
    "plt.show()\n",
    "\n",
    "# Set the palette\n",
    "palette = sns.color_palette('Set2')\n",
    "\n",
    "# KDE plot of nWBV change for each group with switched colors\n",
    "sns.kdeplot(combined_data[combined_data['Group'] == 'Demented']['nWBV_change'], color=palette[1], label='Demented', fill=True)  # Orange\n",
    "sns.kdeplot(combined_data[combined_data['Group'] == 'Nondemented']['nWBV_change'], color=palette[0], label='Nondemented', fill=True)  # Green\n",
    "\n",
    "# Set the title and labels\n",
    "plt.title('Distribution of nWBV Change Between Visits')\n",
    "plt.legend()\n",
    "plt.grid(True)\n",
    "plt.show()"
   ]
  },
  {
   "cell_type": "code",
   "execution_count": 580,
   "metadata": {},
   "outputs": [
    {
     "name": "stdout",
     "output_type": "stream",
     "text": [
      "Percentage of Demented Patients with Decreasing nWBV: 85.71428571428571%\n",
      "Percentage of Nondemented Patients with Decreasing nWBV: 76.38888888888889%\n"
     ]
    }
   ],
   "source": [
    "# Percentage of patients with negative (decreasing) nWBV change\n",
    "demented_decreasing = (combined_data[combined_data['Group'] == 'Demented']['nWBV_change'] < 0).mean() * 100\n",
    "nondemented_decreasing = (combined_data[combined_data['Group'] == 'Nondemented']['nWBV_change'] < 0).mean() * 100\n",
    "\n",
    "print(f\"Percentage of Demented Patients with Decreasing nWBV: {demented_decreasing}%\")\n",
    "print(f\"Percentage of Nondemented Patients with Decreasing nWBV: {nondemented_decreasing}%\")"
   ]
  },
  {
   "cell_type": "markdown",
   "metadata": {},
   "source": [
    "### Spearman's Correlation"
   ]
  },
  {
   "cell_type": "code",
   "execution_count": 582,
   "metadata": {},
   "outputs": [
    {
     "name": "stdout",
     "output_type": "stream",
     "text": [
      "Spearman Correlation between Age_1 and Group_encoded: 0.006, p-value: 0.940\n",
      "Spearman Correlation between eTIV_1 and Group_encoded: -0.011, p-value: 0.893\n",
      "Spearman Correlation between nWBV_1 and Group_encoded: -0.262, p-value: 0.001\n",
      "Spearman Correlation between EDUC and Group_encoded: -0.214, p-value: 0.009\n",
      "Spearman Correlation between SES and Group_encoded: 0.065, p-value: 0.445\n"
     ]
    }
   ],
   "source": [
    "# Initialize a list to store results\n",
    "new_results = []\n",
    "\n",
    "# Encode 'Group' feature\n",
    "combined_data['Group_encoded'] = combined_data['Group'].map({'Demented': 1, 'Nondemented': 0})\n",
    "\n",
    "# List of features to test\n",
    "features = ['Age_1', 'eTIV_1', 'nWBV_1', 'EDUC']\n",
    "\n",
    "# Compute Spearman correlations for features excluding 'SES'\n",
    "for feature in features:\n",
    "    spearman_corr, spearman_p = spearmanr(combined_data[feature], combined_data['Group_encoded'])\n",
    "    new_results.append({\n",
    "        'feature': feature,\n",
    "        'group': 'Both',\n",
    "        'statistic': spearman_corr,\n",
    "        'p-value': spearman_p,\n",
    "        'test': 'Spearman Correlation'\n",
    "    })\n",
    "    print(f'Spearman Correlation between {feature} and Group_encoded: {spearman_corr:.3f}, p-value: {spearman_p:.3f}')\n",
    "\n",
    "# Drop rows with missing values in 'SES' and compute Spearman correlation with 'Group_encoded'\n",
    "cleaned_data = combined_data.dropna(subset=['SES'])\n",
    "spearman_corr_ses, spearman_p_ses = spearmanr(cleaned_data['SES'], cleaned_data['Group_encoded'])\n",
    "new_results.append({\n",
    "    'feature': 'SES',\n",
    "    'group': 'Both',\n",
    "    'statistic': spearman_corr_ses,\n",
    "    'p-value': spearman_p_ses,\n",
    "    'test': 'Spearman Correlation'\n",
    "})\n",
    "print(f'Spearman Correlation between SES and Group_encoded: {spearman_corr_ses:.3f}, p-value: {spearman_p_ses:.3f}')\n",
    "\n",
    "# Create a DataFrame from the new results and concatenate with existing results_df\n",
    "new_results_df = pd.DataFrame(new_results)\n",
    "results_df = pd.concat([results_df, new_results_df], ignore_index=True)"
   ]
  },
  {
   "cell_type": "markdown",
   "metadata": {},
   "source": [
    "All the correlations are either not significant or not meaningful."
   ]
  },
  {
   "cell_type": "markdown",
   "metadata": {},
   "source": [
    "### Results"
   ]
  },
  {
   "cell_type": "markdown",
   "metadata": {},
   "source": [
    "Multiple comparisons correction using Dunn Sidak method."
   ]
  },
  {
   "cell_type": "code",
   "execution_count": 586,
   "metadata": {},
   "outputs": [
    {
     "name": "stdout",
     "output_type": "stream",
     "text": [
      "Adjusted_alpha = 0.00165325426664098\n"
     ]
    },
    {
     "data": {
      "text/html": [
       "<div>\n",
       "<style scoped>\n",
       "    .dataframe tbody tr th:only-of-type {\n",
       "        vertical-align: middle;\n",
       "    }\n",
       "\n",
       "    .dataframe tbody tr th {\n",
       "        vertical-align: top;\n",
       "    }\n",
       "\n",
       "    .dataframe thead th {\n",
       "        text-align: right;\n",
       "    }\n",
       "</style>\n",
       "<table border=\"1\" class=\"dataframe\">\n",
       "  <thead>\n",
       "    <tr style=\"text-align: right;\">\n",
       "      <th></th>\n",
       "      <th>feature</th>\n",
       "      <th>group</th>\n",
       "      <th>statistic</th>\n",
       "      <th>p-value</th>\n",
       "      <th>test</th>\n",
       "      <th>significant</th>\n",
       "    </tr>\n",
       "  </thead>\n",
       "  <tbody>\n",
       "    <tr>\n",
       "      <th>0</th>\n",
       "      <td>Age_1</td>\n",
       "      <td>Demented</td>\n",
       "      <td>0.081887</td>\n",
       "      <td>6.497977e-01</td>\n",
       "      <td>KS Test</td>\n",
       "      <td>No</td>\n",
       "    </tr>\n",
       "    <tr>\n",
       "      <th>1</th>\n",
       "      <td>Age_1</td>\n",
       "      <td>Nondemented</td>\n",
       "      <td>0.068647</td>\n",
       "      <td>8.633548e-01</td>\n",
       "      <td>KS Test</td>\n",
       "      <td>No</td>\n",
       "    </tr>\n",
       "    <tr>\n",
       "      <th>2</th>\n",
       "      <td>MR Delay_2</td>\n",
       "      <td>Demented</td>\n",
       "      <td>0.149587</td>\n",
       "      <td>5.724812e-02</td>\n",
       "      <td>KS Test</td>\n",
       "      <td>No</td>\n",
       "    </tr>\n",
       "    <tr>\n",
       "      <th>3</th>\n",
       "      <td>MR Delay_2</td>\n",
       "      <td>Nondemented</td>\n",
       "      <td>0.123025</td>\n",
       "      <td>2.079939e-01</td>\n",
       "      <td>KS Test</td>\n",
       "      <td>No</td>\n",
       "    </tr>\n",
       "    <tr>\n",
       "      <th>4</th>\n",
       "      <td>MMSE_1</td>\n",
       "      <td>Demented</td>\n",
       "      <td>0.144489</td>\n",
       "      <td>7.247882e-02</td>\n",
       "      <td>KS Test</td>\n",
       "      <td>No</td>\n",
       "    </tr>\n",
       "    <tr>\n",
       "      <th>5</th>\n",
       "      <td>eTIV_1</td>\n",
       "      <td>Demented</td>\n",
       "      <td>0.126723</td>\n",
       "      <td>1.546172e-01</td>\n",
       "      <td>KS Test</td>\n",
       "      <td>No</td>\n",
       "    </tr>\n",
       "    <tr>\n",
       "      <th>6</th>\n",
       "      <td>eTIV_1</td>\n",
       "      <td>Nondemented</td>\n",
       "      <td>0.109035</td>\n",
       "      <td>3.344030e-01</td>\n",
       "      <td>KS Test</td>\n",
       "      <td>No</td>\n",
       "    </tr>\n",
       "    <tr>\n",
       "      <th>7</th>\n",
       "      <td>nWBV_1</td>\n",
       "      <td>Demented</td>\n",
       "      <td>0.052756</td>\n",
       "      <td>9.752295e-01</td>\n",
       "      <td>KS Test</td>\n",
       "      <td>No</td>\n",
       "    </tr>\n",
       "    <tr>\n",
       "      <th>8</th>\n",
       "      <td>nWBV_1</td>\n",
       "      <td>Nondemented</td>\n",
       "      <td>0.064033</td>\n",
       "      <td>9.108898e-01</td>\n",
       "      <td>KS Test</td>\n",
       "      <td>No</td>\n",
       "    </tr>\n",
       "    <tr>\n",
       "      <th>9</th>\n",
       "      <td>ASF_1</td>\n",
       "      <td>Demented</td>\n",
       "      <td>0.082209</td>\n",
       "      <td>6.450082e-01</td>\n",
       "      <td>KS Test</td>\n",
       "      <td>No</td>\n",
       "    </tr>\n",
       "    <tr>\n",
       "      <th>10</th>\n",
       "      <td>ASF_1</td>\n",
       "      <td>Nondemented</td>\n",
       "      <td>0.062312</td>\n",
       "      <td>9.260226e-01</td>\n",
       "      <td>KS Test</td>\n",
       "      <td>No</td>\n",
       "    </tr>\n",
       "    <tr>\n",
       "      <th>11</th>\n",
       "      <td>EDUC</td>\n",
       "      <td>Both</td>\n",
       "      <td>2099.000000</td>\n",
       "      <td>9.171513e-03</td>\n",
       "      <td>Mann-Whitney U Test</td>\n",
       "      <td>No</td>\n",
       "    </tr>\n",
       "    <tr>\n",
       "      <th>12</th>\n",
       "      <td>SES</td>\n",
       "      <td>Both</td>\n",
       "      <td>2702.000000</td>\n",
       "      <td>4.445695e-01</td>\n",
       "      <td>Mann-Whitney U Test</td>\n",
       "      <td>No</td>\n",
       "    </tr>\n",
       "    <tr>\n",
       "      <th>13</th>\n",
       "      <td>Age_1</td>\n",
       "      <td>Both</td>\n",
       "      <td>1.837932</td>\n",
       "      <td>1.772726e-01</td>\n",
       "      <td>Levene's Test</td>\n",
       "      <td>No</td>\n",
       "    </tr>\n",
       "    <tr>\n",
       "      <th>14</th>\n",
       "      <td>nWBV_1</td>\n",
       "      <td>Both</td>\n",
       "      <td>1.804772</td>\n",
       "      <td>1.812069e-01</td>\n",
       "      <td>Levene's Test</td>\n",
       "      <td>No</td>\n",
       "    </tr>\n",
       "    <tr>\n",
       "      <th>15</th>\n",
       "      <td>eTIV_1</td>\n",
       "      <td>Both</td>\n",
       "      <td>1.111480</td>\n",
       "      <td>2.934902e-01</td>\n",
       "      <td>Levene's Test</td>\n",
       "      <td>No</td>\n",
       "    </tr>\n",
       "    <tr>\n",
       "      <th>16</th>\n",
       "      <td>Age_1</td>\n",
       "      <td>Both</td>\n",
       "      <td>0.040125</td>\n",
       "      <td>9.680480e-01</td>\n",
       "      <td>T-test</td>\n",
       "      <td>No</td>\n",
       "    </tr>\n",
       "    <tr>\n",
       "      <th>17</th>\n",
       "      <td>nWBV_1</td>\n",
       "      <td>Both</td>\n",
       "      <td>-3.346431</td>\n",
       "      <td>1.039352e-03</td>\n",
       "      <td>T-test</td>\n",
       "      <td>Yes</td>\n",
       "    </tr>\n",
       "    <tr>\n",
       "      <th>18</th>\n",
       "      <td>ASF_1</td>\n",
       "      <td>Both</td>\n",
       "      <td>0.094258</td>\n",
       "      <td>9.250325e-01</td>\n",
       "      <td>T-test</td>\n",
       "      <td>No</td>\n",
       "    </tr>\n",
       "    <tr>\n",
       "      <th>19</th>\n",
       "      <td>M/F</td>\n",
       "      <td>Both</td>\n",
       "      <td>6.155609</td>\n",
       "      <td>1.309960e-02</td>\n",
       "      <td>Chi-Square</td>\n",
       "      <td>No</td>\n",
       "    </tr>\n",
       "    <tr>\n",
       "      <th>20</th>\n",
       "      <td>MMSE_1 vs MMSE_2</td>\n",
       "      <td>Demented</td>\n",
       "      <td>540.000000</td>\n",
       "      <td>5.393782e-03</td>\n",
       "      <td>Wilcoxon Signed-Rank</td>\n",
       "      <td>No</td>\n",
       "    </tr>\n",
       "    <tr>\n",
       "      <th>21</th>\n",
       "      <td>MMSE_1 vs MMSE_2</td>\n",
       "      <td>Nondemented</td>\n",
       "      <td>414.500000</td>\n",
       "      <td>4.514455e-01</td>\n",
       "      <td>Wilcoxon Signed-Rank</td>\n",
       "      <td>No</td>\n",
       "    </tr>\n",
       "    <tr>\n",
       "      <th>22</th>\n",
       "      <td>eTIV_1 vs eTIV_2</td>\n",
       "      <td>Demented</td>\n",
       "      <td>797.500000</td>\n",
       "      <td>9.164319e-04</td>\n",
       "      <td>Wilcoxon Signed-Rank</td>\n",
       "      <td>Yes</td>\n",
       "    </tr>\n",
       "    <tr>\n",
       "      <th>23</th>\n",
       "      <td>eTIV_1 vs eTIV_2</td>\n",
       "      <td>Nondemented</td>\n",
       "      <td>1067.500000</td>\n",
       "      <td>1.664898e-01</td>\n",
       "      <td>Wilcoxon Signed-Rank</td>\n",
       "      <td>No</td>\n",
       "    </tr>\n",
       "    <tr>\n",
       "      <th>24</th>\n",
       "      <td>nWBV_1 vs nWBV_2</td>\n",
       "      <td>Demented</td>\n",
       "      <td>204.000000</td>\n",
       "      <td>7.026543e-11</td>\n",
       "      <td>Wilcoxon Signed-Rank</td>\n",
       "      <td>Yes</td>\n",
       "    </tr>\n",
       "    <tr>\n",
       "      <th>25</th>\n",
       "      <td>nWBV_1 vs nWBV_2</td>\n",
       "      <td>Nondemented</td>\n",
       "      <td>336.000000</td>\n",
       "      <td>1.104112e-07</td>\n",
       "      <td>Wilcoxon Signed-Rank</td>\n",
       "      <td>Yes</td>\n",
       "    </tr>\n",
       "    <tr>\n",
       "      <th>26</th>\n",
       "      <td>Age_1</td>\n",
       "      <td>Both</td>\n",
       "      <td>0.006251</td>\n",
       "      <td>9.396838e-01</td>\n",
       "      <td>Spearman Correlation</td>\n",
       "      <td>No</td>\n",
       "    </tr>\n",
       "    <tr>\n",
       "      <th>27</th>\n",
       "      <td>eTIV_1</td>\n",
       "      <td>Both</td>\n",
       "      <td>-0.011085</td>\n",
       "      <td>8.932638e-01</td>\n",
       "      <td>Spearman Correlation</td>\n",
       "      <td>No</td>\n",
       "    </tr>\n",
       "    <tr>\n",
       "      <th>28</th>\n",
       "      <td>nWBV_1</td>\n",
       "      <td>Both</td>\n",
       "      <td>-0.261860</td>\n",
       "      <td>1.255478e-03</td>\n",
       "      <td>Spearman Correlation</td>\n",
       "      <td>Yes</td>\n",
       "    </tr>\n",
       "    <tr>\n",
       "      <th>29</th>\n",
       "      <td>EDUC</td>\n",
       "      <td>Both</td>\n",
       "      <td>-0.214338</td>\n",
       "      <td>8.668210e-03</td>\n",
       "      <td>Spearman Correlation</td>\n",
       "      <td>No</td>\n",
       "    </tr>\n",
       "    <tr>\n",
       "      <th>30</th>\n",
       "      <td>SES</td>\n",
       "      <td>Both</td>\n",
       "      <td>0.064560</td>\n",
       "      <td>4.452746e-01</td>\n",
       "      <td>Spearman Correlation</td>\n",
       "      <td>No</td>\n",
       "    </tr>\n",
       "  </tbody>\n",
       "</table>\n",
       "</div>"
      ],
      "text/plain": [
       "             feature        group    statistic       p-value  \\\n",
       "0              Age_1     Demented     0.081887  6.497977e-01   \n",
       "1              Age_1  Nondemented     0.068647  8.633548e-01   \n",
       "2         MR Delay_2     Demented     0.149587  5.724812e-02   \n",
       "3         MR Delay_2  Nondemented     0.123025  2.079939e-01   \n",
       "4             MMSE_1     Demented     0.144489  7.247882e-02   \n",
       "5             eTIV_1     Demented     0.126723  1.546172e-01   \n",
       "6             eTIV_1  Nondemented     0.109035  3.344030e-01   \n",
       "7             nWBV_1     Demented     0.052756  9.752295e-01   \n",
       "8             nWBV_1  Nondemented     0.064033  9.108898e-01   \n",
       "9              ASF_1     Demented     0.082209  6.450082e-01   \n",
       "10             ASF_1  Nondemented     0.062312  9.260226e-01   \n",
       "11              EDUC         Both  2099.000000  9.171513e-03   \n",
       "12               SES         Both  2702.000000  4.445695e-01   \n",
       "13             Age_1         Both     1.837932  1.772726e-01   \n",
       "14            nWBV_1         Both     1.804772  1.812069e-01   \n",
       "15            eTIV_1         Both     1.111480  2.934902e-01   \n",
       "16             Age_1         Both     0.040125  9.680480e-01   \n",
       "17            nWBV_1         Both    -3.346431  1.039352e-03   \n",
       "18             ASF_1         Both     0.094258  9.250325e-01   \n",
       "19               M/F         Both     6.155609  1.309960e-02   \n",
       "20  MMSE_1 vs MMSE_2     Demented   540.000000  5.393782e-03   \n",
       "21  MMSE_1 vs MMSE_2  Nondemented   414.500000  4.514455e-01   \n",
       "22  eTIV_1 vs eTIV_2     Demented   797.500000  9.164319e-04   \n",
       "23  eTIV_1 vs eTIV_2  Nondemented  1067.500000  1.664898e-01   \n",
       "24  nWBV_1 vs nWBV_2     Demented   204.000000  7.026543e-11   \n",
       "25  nWBV_1 vs nWBV_2  Nondemented   336.000000  1.104112e-07   \n",
       "26             Age_1         Both     0.006251  9.396838e-01   \n",
       "27            eTIV_1         Both    -0.011085  8.932638e-01   \n",
       "28            nWBV_1         Both    -0.261860  1.255478e-03   \n",
       "29              EDUC         Both    -0.214338  8.668210e-03   \n",
       "30               SES         Both     0.064560  4.452746e-01   \n",
       "\n",
       "                    test significant  \n",
       "0                KS Test          No  \n",
       "1                KS Test          No  \n",
       "2                KS Test          No  \n",
       "3                KS Test          No  \n",
       "4                KS Test          No  \n",
       "5                KS Test          No  \n",
       "6                KS Test          No  \n",
       "7                KS Test          No  \n",
       "8                KS Test          No  \n",
       "9                KS Test          No  \n",
       "10               KS Test          No  \n",
       "11   Mann-Whitney U Test          No  \n",
       "12   Mann-Whitney U Test          No  \n",
       "13         Levene's Test          No  \n",
       "14         Levene's Test          No  \n",
       "15         Levene's Test          No  \n",
       "16                T-test          No  \n",
       "17                T-test         Yes  \n",
       "18                T-test          No  \n",
       "19            Chi-Square          No  \n",
       "20  Wilcoxon Signed-Rank          No  \n",
       "21  Wilcoxon Signed-Rank          No  \n",
       "22  Wilcoxon Signed-Rank         Yes  \n",
       "23  Wilcoxon Signed-Rank          No  \n",
       "24  Wilcoxon Signed-Rank         Yes  \n",
       "25  Wilcoxon Signed-Rank         Yes  \n",
       "26  Spearman Correlation          No  \n",
       "27  Spearman Correlation          No  \n",
       "28  Spearman Correlation         Yes  \n",
       "29  Spearman Correlation          No  \n",
       "30  Spearman Correlation          No  "
      ]
     },
     "metadata": {},
     "output_type": "display_data"
    }
   ],
   "source": [
    "# Define original alpha level\n",
    "alpha = 0.05\n",
    "\n",
    "# Number of tests (update this to match your actual number of tests)\n",
    "n_tests = len(results_df)  # or set this manually to the number of unique tests performed\n",
    "\n",
    "# Calculate Dunn-Sidak adjusted alpha\n",
    "adjusted_alpha = 1 - (1 - alpha)**(1/n_tests)\n",
    "\n",
    "print(f\"Adjusted_alpha = {adjusted_alpha}\")\n",
    "\n",
    "# Add 'significant' column to results_df\n",
    "results_df['significant'] = results_df['p-value'].apply(lambda p: 'Yes' if p < adjusted_alpha else 'No')\n",
    "\n",
    "# Display the updated results DataFrame\n",
    "display(results_df)"
   ]
  },
  {
   "cell_type": "code",
   "execution_count": 587,
   "metadata": {},
   "outputs": [
    {
     "data": {
      "text/html": [
       "<div>\n",
       "<style scoped>\n",
       "    .dataframe tbody tr th:only-of-type {\n",
       "        vertical-align: middle;\n",
       "    }\n",
       "\n",
       "    .dataframe tbody tr th {\n",
       "        vertical-align: top;\n",
       "    }\n",
       "\n",
       "    .dataframe thead th {\n",
       "        text-align: right;\n",
       "    }\n",
       "</style>\n",
       "<table border=\"1\" class=\"dataframe\">\n",
       "  <thead>\n",
       "    <tr style=\"text-align: right;\">\n",
       "      <th></th>\n",
       "      <th>feature</th>\n",
       "      <th>group</th>\n",
       "      <th>statistic</th>\n",
       "      <th>p-value</th>\n",
       "      <th>test</th>\n",
       "      <th>significant</th>\n",
       "    </tr>\n",
       "  </thead>\n",
       "  <tbody>\n",
       "    <tr>\n",
       "      <th>17</th>\n",
       "      <td>nWBV_1</td>\n",
       "      <td>Both</td>\n",
       "      <td>-3.346431</td>\n",
       "      <td>1.039352e-03</td>\n",
       "      <td>T-test</td>\n",
       "      <td>Yes</td>\n",
       "    </tr>\n",
       "    <tr>\n",
       "      <th>22</th>\n",
       "      <td>eTIV_1 vs eTIV_2</td>\n",
       "      <td>Demented</td>\n",
       "      <td>797.500000</td>\n",
       "      <td>9.164319e-04</td>\n",
       "      <td>Wilcoxon Signed-Rank</td>\n",
       "      <td>Yes</td>\n",
       "    </tr>\n",
       "    <tr>\n",
       "      <th>24</th>\n",
       "      <td>nWBV_1 vs nWBV_2</td>\n",
       "      <td>Demented</td>\n",
       "      <td>204.000000</td>\n",
       "      <td>7.026543e-11</td>\n",
       "      <td>Wilcoxon Signed-Rank</td>\n",
       "      <td>Yes</td>\n",
       "    </tr>\n",
       "    <tr>\n",
       "      <th>25</th>\n",
       "      <td>nWBV_1 vs nWBV_2</td>\n",
       "      <td>Nondemented</td>\n",
       "      <td>336.000000</td>\n",
       "      <td>1.104112e-07</td>\n",
       "      <td>Wilcoxon Signed-Rank</td>\n",
       "      <td>Yes</td>\n",
       "    </tr>\n",
       "    <tr>\n",
       "      <th>28</th>\n",
       "      <td>nWBV_1</td>\n",
       "      <td>Both</td>\n",
       "      <td>-0.261860</td>\n",
       "      <td>1.255478e-03</td>\n",
       "      <td>Spearman Correlation</td>\n",
       "      <td>Yes</td>\n",
       "    </tr>\n",
       "  </tbody>\n",
       "</table>\n",
       "</div>"
      ],
      "text/plain": [
       "             feature        group   statistic       p-value  \\\n",
       "17            nWBV_1         Both   -3.346431  1.039352e-03   \n",
       "22  eTIV_1 vs eTIV_2     Demented  797.500000  9.164319e-04   \n",
       "24  nWBV_1 vs nWBV_2     Demented  204.000000  7.026543e-11   \n",
       "25  nWBV_1 vs nWBV_2  Nondemented  336.000000  1.104112e-07   \n",
       "28            nWBV_1         Both   -0.261860  1.255478e-03   \n",
       "\n",
       "                    test significant  \n",
       "17                T-test         Yes  \n",
       "22  Wilcoxon Signed-Rank         Yes  \n",
       "24  Wilcoxon Signed-Rank         Yes  \n",
       "25  Wilcoxon Signed-Rank         Yes  \n",
       "28  Spearman Correlation         Yes  "
      ]
     },
     "metadata": {},
     "output_type": "display_data"
    }
   ],
   "source": [
    "display(results_df[results_df['significant'] == 'Yes'])"
   ]
  },
  {
   "cell_type": "code",
   "execution_count": null,
   "metadata": {},
   "outputs": [],
   "source": []
  }
 ],
 "metadata": {
  "colab": {
   "provenance": [],
   "toc_visible": true
  },
  "kernelspec": {
   "display_name": "Python 3 (ipykernel)",
   "language": "python",
   "name": "python3"
  },
  "language_info": {
   "codemirror_mode": {
    "name": "ipython",
    "version": 3
   },
   "file_extension": ".py",
   "mimetype": "text/x-python",
   "name": "python",
   "nbconvert_exporter": "python",
   "pygments_lexer": "ipython3",
   "version": "3.12.4"
  }
 },
 "nbformat": 4,
 "nbformat_minor": 4
}
